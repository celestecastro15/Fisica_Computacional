{
 "cells": [
  {
   "cell_type": "markdown",
   "metadata": {},
   "source": [
    "<div class=\"alert alert-info\" role=\"alert\">\n",
    " <p class =\"lead\"> \n",
    " <h1>Física Computacional </h1>\n",
    " <h2>Tarea 2</h2>\n",
    " </div>\n",
    "\n",
    "<img src=\"https://upload.wikimedia.org/wikipedia/commons/thumb/1/1f/Julia_Programming_Language_Logo.svg/1200px-Julia_Programming_Language_Logo.svg.png\" style=\"height:42px;display:inline\">\n",
    "\n",
    "\n",
    "> Autor: Celeste Castro Granados $\\mathbb C \\hat{e}l \\mathbb s$"
   ]
  },
  {
   "cell_type": "markdown",
   "metadata": {},
   "source": [
    "## 1.\n",
    "La integral numérica en la que en la que se aproxima la integral de una función es la siguiente:\n",
    "\n",
    "$$ \\int_{x_i -h}^{x_i+h} f(x) dx = \\frac{f(x_{i-1})+4 f(x_i) + f(x_i + 1)}{3} h + \\mathbb O(h^5) $$\n",
    "\n",
    "donde se desprecian los términos $ \\mathbb O(h^5$). (Suponiendo una malla uniforme)\n",
    "\n",
    "La función tendrá que contemplar si el número de puntos en la malla (N) es par o impar, ya que para calcular la integral en un punto $x_i$ contemplamos el $x_{i+1}$ y el $x_{i-1}$, es decir, se avanza de 2 en 2 por lo que podría llegar a sobrar 1 punto en la malla.\n",
    "\n",
    "En clase analizamos ambos casos, sin embargo, tendremos que realizarle un ligero cambio a dicho análisis ya que la indexación es diferente. En clase la indexación que consideramos empezaba en 0 contrario a Julia que empieza en 1, por lo que, si la N (de clase) es par, nuestra N es impar y viceversa, i.e. el las consideraciones que vimos en clase para N par, las tomaremos como si se tratara de N impar, y viceversa. Y además, i empezará en un índice posterior. \n",
    "\n",
    "Por lo tanto, tenemos lo siguiente:\n",
    "\n",
    "***Si N es impar, la suma tendrá que empezar en $i=2$ y terminar en N-1.***\n",
    "\n",
    "***Si N es par, la suma tendrá que empezar en $i=3$ y terminar en N-1 como en el caso anterior. En este caso, $x_1$ se realiza de forma independiente para que al final si alcancen todos los puntos.*** \n",
    "\n",
    "$\\Rightarrow$ La ecuación para el primer intervalo será:\n",
    "\n",
    "$$ \\frac{h}{48} (23 f_1 + 26f_2 - 4f_3 + 6f_4 -3f_5) $$\n",
    "\n",
    "A continuación procedemos a programar este algoritmo. \n"
   ]
  },
  {
   "cell_type": "code",
   "execution_count": 1,
   "metadata": {},
   "outputs": [
    {
     "data": {
      "text/plain": [
       "int_num (generic function with 1 method)"
      ]
     },
     "execution_count": 1,
     "metadata": {},
     "output_type": "execute_result"
    }
   ],
   "source": [
    "function int_num(x,y) #x-malla de puntos, y-función a la cual le vamos a calcular su integral\n",
    "    integral = 0 #Definimos la integral para poder utilizarla más adelante\n",
    "    h = x[2] - x[1] #h siempre tendrá el mismo valor porque se trata de una malla uniforme\n",
    "    \n",
    "    #Utilizaremos la función módulo para saber si el número de puntos en la malla es par o impar\n",
    "    #y saber en donde inicia la suma\n",
    "    if mod(length(y),2) == 0 #Par\n",
    "        inicio = 3\n",
    "    elseif mod(length(y),2) == 1 #Impar\n",
    "        inicio = 2        \n",
    "    end\n",
    "    \n",
    "    #Utilizaremos un for para que vaya sumando la integral de cada intervalo\n",
    "    for i in inicio:2:length(y)-1 #Avanza de 2 en 2 y termina en N-1\n",
    "        integral += y[i+1] + 4*y[i] + y[i-1]\n",
    "    end\n",
    "    integral = integral*(h/3)\n",
    "    \n",
    "    #Agregamos la expresión para el primer intervalo en caso de que N sea par\n",
    "    if mod(length(y),2) == 0\n",
    "        integral += (h/48)*(23*y[1] + 26*y[2] - 4*y[3] + 6*y[4] -3*y[5])\n",
    "    end\n",
    "    return integral\n",
    "end"
   ]
  },
  {
   "cell_type": "markdown",
   "metadata": {},
   "source": [
    "Ahora, tenemos que:\n",
    "$$ f(x)=e^{-x^2} sin(10x) $$\n",
    "$$ g(x)=-\\frac{2}{x^6} + \\frac{1}{x^{12}}$$\n",
    "\n",
    "Vamos a programar estas funciones para poder utilizarlas más adelante.\n"
   ]
  },
  {
   "cell_type": "code",
   "execution_count": 2,
   "metadata": {},
   "outputs": [
    {
     "data": {
      "text/plain": [
       "f (generic function with 1 method)"
      ]
     },
     "execution_count": 2,
     "metadata": {},
     "output_type": "execute_result"
    }
   ],
   "source": [
    "function f(x)\n",
    "    f=exp.(-(x.^2)).*sin.(10*x)\n",
    "    return f\n",
    "end"
   ]
  },
  {
   "cell_type": "code",
   "execution_count": 3,
   "metadata": {},
   "outputs": [
    {
     "data": {
      "text/plain": [
       "g (generic function with 1 method)"
      ]
     },
     "execution_count": 3,
     "metadata": {},
     "output_type": "execute_result"
    }
   ],
   "source": [
    "function g(x)\n",
    "    g=-2*((x.^6).^(-1)) + 1*((x.^(12)).^(-1))\n",
    "    return g\n",
    "end"
   ]
  },
  {
   "cell_type": "markdown",
   "metadata": {},
   "source": [
    "Calculamos las integrales de las siguientes funciones para una malla uniforme:\n"
   ]
  },
  {
   "cell_type": "markdown",
   "metadata": {},
   "source": [
    "En cada inciso calcularemos la integral tanto para una malla con número de puntos par como para una con número de puntos impar; para probar que nuestro algoritmo funciona bien en ambos casos.\n",
    "\n",
    "**a)** $$ \\int_0^5 f(x) dx $$\n",
    "\n",
    "El resultado analítico de esta integral es 0.102134 (Calculado numéricamente en Wolfram)"
   ]
  },
  {
   "cell_type": "code",
   "execution_count": 4,
   "metadata": {},
   "outputs": [
    {
     "name": "stdout",
     "output_type": "stream",
     "text": [
      "Número de puntos en la malla: 1000"
     ]
    },
    {
     "data": {
      "text/plain": [
       "0.10213418840800859"
      ]
     },
     "execution_count": 4,
     "metadata": {},
     "output_type": "execute_result"
    }
   ],
   "source": [
    "#N par\n",
    "x = collect(range(0,stop=5,length=1000))\n",
    "print(\"Número de puntos en la malla: \", length(x))\n",
    "y = f(x)\n",
    "integral_par=int_num(x,y)"
   ]
  },
  {
   "cell_type": "code",
   "execution_count": 5,
   "metadata": {},
   "outputs": [
    {
     "name": "stdout",
     "output_type": "stream",
     "text": [
      "Número de puntos en la malla: 1001"
     ]
    },
    {
     "data": {
      "text/plain": [
       "0.1021340781055997"
      ]
     },
     "execution_count": 5,
     "metadata": {},
     "output_type": "execute_result"
    }
   ],
   "source": [
    "#N impar\n",
    "x = collect(range(0,stop=5,length=1001))\n",
    "print(\"Número de puntos en la malla: \", length(x))\n",
    "y = f(x)\n",
    "integral_impar=int_num(x,y)"
   ]
  },
  {
   "cell_type": "code",
   "execution_count": 6,
   "metadata": {},
   "outputs": [
    {
     "name": "stdout",
     "output_type": "stream",
     "text": [
      "El error para el caso par es: 1.8840800858344053e-7"
     ]
    }
   ],
   "source": [
    "print(\"El error para el caso par es: \",abs(integral_par-0.102134))"
   ]
  },
  {
   "cell_type": "code",
   "execution_count": 7,
   "metadata": {},
   "outputs": [
    {
     "name": "stdout",
     "output_type": "stream",
     "text": [
      "El error para el caso impar es: 7.81055996962321e-8"
     ]
    }
   ],
   "source": [
    "print(\"El error para el caso impar es: \",abs(integral_impar-0.102134))"
   ]
  },
  {
   "cell_type": "markdown",
   "metadata": {},
   "source": [
    "Observamos que en ambos casos el resultado tiene una precisión mayor a $10^{-4}$."
   ]
  },
  {
   "cell_type": "markdown",
   "metadata": {},
   "source": [
    "**b)** $$ \\int_{-5}^5 f^2(x) dx $$\n",
    "\n",
    "El resultado analítico de esta integral es 0.6266570686577501 (Calculado en Wolfram)"
   ]
  },
  {
   "cell_type": "code",
   "execution_count": 8,
   "metadata": {},
   "outputs": [
    {
     "name": "stdout",
     "output_type": "stream",
     "text": [
      "Número de puntos en la malla: 1000"
     ]
    },
    {
     "data": {
      "text/plain": [
       "0.6266570686577498"
      ]
     },
     "execution_count": 8,
     "metadata": {},
     "output_type": "execute_result"
    }
   ],
   "source": [
    "#N par\n",
    "x = collect(range(-5,stop=5,length=1000))\n",
    "print(\"Número de puntos en la malla: \", length(x))\n",
    "y = (f(x)).^2\n",
    "integral_par=int_num(x,y)"
   ]
  },
  {
   "cell_type": "code",
   "execution_count": 9,
   "metadata": {},
   "outputs": [
    {
     "name": "stdout",
     "output_type": "stream",
     "text": [
      "Número de puntos en la malla: 1001"
     ]
    },
    {
     "data": {
      "text/plain": [
       "0.6266570686577368"
      ]
     },
     "execution_count": 9,
     "metadata": {},
     "output_type": "execute_result"
    }
   ],
   "source": [
    "#N impar\n",
    "x = collect(range(-5,stop=5,length=1001))\n",
    "print(\"Número de puntos en la malla: \", length(x))\n",
    "y = (f(x)).^2\n",
    "integral_impar=int_num(x,y)"
   ]
  },
  {
   "cell_type": "code",
   "execution_count": 10,
   "metadata": {},
   "outputs": [
    {
     "name": "stdout",
     "output_type": "stream",
     "text": [
      "El error para el caso par es: 2.220446049250313e-16"
     ]
    }
   ],
   "source": [
    "print(\"El error para el caso par es: \",abs(integral_par-0.6266570686577501))"
   ]
  },
  {
   "cell_type": "code",
   "execution_count": 11,
   "metadata": {},
   "outputs": [
    {
     "name": "stdout",
     "output_type": "stream",
     "text": [
      "El error para el caso impar es: 1.3211653993039363e-14"
     ]
    }
   ],
   "source": [
    "print(\"El error para el caso impar es: \",abs(integral_impar-0.6266570686577501))"
   ]
  },
  {
   "cell_type": "markdown",
   "metadata": {},
   "source": [
    "Observamos que en ambos casos el resultado tiene una precisión mayor a $10^{-4}$."
   ]
  },
  {
   "cell_type": "markdown",
   "metadata": {},
   "source": [
    "**c)** $$ \\int_{0.5}^5 g(x) dx $$\n",
    "\n",
    "\n",
    "El resultado analítico de esta integral es 173.382 (Calculado numéricamente en Wolfram)"
   ]
  },
  {
   "cell_type": "code",
   "execution_count": 12,
   "metadata": {},
   "outputs": [
    {
     "name": "stdout",
     "output_type": "stream",
     "text": [
      "Número de puntos en la malla: 10000"
     ]
    },
    {
     "data": {
      "text/plain": [
       "173.38194667176072"
      ]
     },
     "execution_count": 12,
     "metadata": {},
     "output_type": "execute_result"
    }
   ],
   "source": [
    "#N par\n",
    "x = collect(range(0.5,stop=5,length=10000))\n",
    "print(\"Número de puntos en la malla: \", length(x))\n",
    "y = g(x)\n",
    "integral_par=int_num(x,y)"
   ]
  },
  {
   "cell_type": "code",
   "execution_count": 13,
   "metadata": {},
   "outputs": [
    {
     "name": "stdout",
     "output_type": "stream",
     "text": [
      "Número de puntos en la malla: 10001"
     ]
    },
    {
     "data": {
      "text/plain": [
       "173.38194619616306"
      ]
     },
     "execution_count": 13,
     "metadata": {},
     "output_type": "execute_result"
    }
   ],
   "source": [
    "#N impar\n",
    "x = collect(range(0.5,stop=5,length=10001))\n",
    "print(\"Número de puntos en la malla: \", length(x))\n",
    "y = g(x)\n",
    "integral_impar=int_num(x,y)"
   ]
  },
  {
   "cell_type": "code",
   "execution_count": 14,
   "metadata": {},
   "outputs": [
    {
     "name": "stdout",
     "output_type": "stream",
     "text": [
      "El error para el caso par es: 5.332823928938524e-5"
     ]
    }
   ],
   "source": [
    "print(\"El error para el caso par es: \",abs(integral_par-173.382))"
   ]
  },
  {
   "cell_type": "code",
   "execution_count": 15,
   "metadata": {},
   "outputs": [
    {
     "name": "stdout",
     "output_type": "stream",
     "text": [
      "El error para el caso impar es: 5.380383694841839e-5"
     ]
    }
   ],
   "source": [
    "print(\"El error para el caso impar es: \",abs(integral_impar-173.382))"
   ]
  },
  {
   "cell_type": "markdown",
   "metadata": {},
   "source": [
    "Observamos que en ambos casos el resultado tiene una precisión mayor a $10^{-4}$."
   ]
  },
  {
   "cell_type": "markdown",
   "metadata": {},
   "source": [
    "## 2. Haga una función que implemente la integral numérica utilizando la regla de \"Simpson $\\frac{3}{8}$\"."
   ]
  },
  {
   "cell_type": "markdown",
   "metadata": {},
   "source": [
    "La integral numérica utilizando la regla de \"Simpson $\\frac{3}{8}$\" está dada por la siguiente relación:\n",
    "\n",
    "$$ \\int_{x_i}^{x_{i+3}} f(x) dx = \\frac{3h}{8} (f(x_i) + 3f(x_{i+1}) + 3f(x_{i+2}) + f(x_{i+3})) + \\mathbb O(h^5) $$\n",
    "\n",
    "donde se desprecian los términos $\\mathbb O (h^5)$.\n",
    "\n",
    "Al igual que en el problema 1 tendremos que considerar distintos casos. Observamos que para calcular la integral en el punto $x_i$ se contemplan los puntos $x_{i+1}$,$x_{i+2}$ y $x_{i+3}$, es decir, empieza en $i=1$ y se avanza de 3 en 3, por lo que la suma termina en $N-3$. Sin embargo, puede suceder que el número de puntos en la malla sea tal que lleguen a sobrar 1 ó 2 puntos.  \n",
    "\n",
    "Por lo tanto, si sobran 2 puntos utilizaremos el algoritmo del problema 1 para dichos puntos y si sobra 1 punto utilizaremos la parte del algoritmo del problema 1 que obtuvimos para el primer intervalo. \n",
    "\n",
    "A continuación procedemos a programar lo anterior. \n",
    " "
   ]
  },
  {
   "cell_type": "code",
   "execution_count": 16,
   "metadata": {},
   "outputs": [
    {
     "data": {
      "text/plain": [
       "int_num_simp (generic function with 1 method)"
      ]
     },
     "execution_count": 16,
     "metadata": {},
     "output_type": "execute_result"
    }
   ],
   "source": [
    "function int_num_simp(x,y) #x-malla de puntos, y-función a la cual le vamos a calcular su integral\n",
    "    integral = 0 #Definimos la integral para poder utilizarla más adelante\n",
    "    h = x[2] - x[1] #h siempre tendrá el mismo valor porque se trata de una malla uniforme\n",
    "    \n",
    "    if mod(length(y),3) == 1 #No sobra ningún punto\n",
    "        inicio = 1\n",
    "    end\n",
    "    if mod(length(y),3) == 2 #Sobra 1 punto\n",
    "        inicio = 2\n",
    "    end\n",
    "    \n",
    "    if mod(length(y),3) == 0 #Sobran 2 puntos\n",
    "        inicio = 3\n",
    "    end\n",
    "    \n",
    "    for i in inicio:3:length(y)-3 #Avanza de 3 en 3 y termina en N-3\n",
    "        integral += y[i] + 3*y[i+1] + 3*y[i+2] + y[i+3]\n",
    "    end\n",
    "    integral = integral*(3*h/8)\n",
    "        \n",
    "    #Ahora utilizaremos el algoritmo del problema 1 para agregar \n",
    "    #lo correspondiente al 1er intervalo ó a los primeros 2 intervalos.\n",
    "    \n",
    "    #Expresión para el 1er intervalo     \n",
    "    if mod(length(y),3) == 2 #Sobra 1 punto\n",
    "        integral += (h/48)*(23*y[1] + 26*y[2] - 4*y[3] + 6*y[4] -3*y[5])\n",
    "    end\n",
    "    \n",
    "    #Expresión para los primeros 2 intervalos \n",
    "    if mod(length(y),3) == 0 #Sobran 2 puntos\n",
    "        integral += (h/3)*(y[3] + 4*y[2] + y[1])\n",
    "    end\n",
    "    \n",
    "    return integral\n",
    "end"
   ]
  },
  {
   "cell_type": "markdown",
   "metadata": {},
   "source": [
    "Vamos a calcular ahora las integrales del problema 1. "
   ]
  },
  {
   "cell_type": "markdown",
   "metadata": {},
   "source": [
    "En cada inciso calcularemos la integral para todos los casos que contemplamos arriba, para probar que nuestro algoritmo funciona bien.\n",
    "\n",
    "**a)** $$ \\int_0^5 f(x) dx $$\n",
    "\n",
    "El resultado analítico de esta integral es 0.102134 (Calculado numéricamente en Wolfram)"
   ]
  },
  {
   "cell_type": "code",
   "execution_count": 17,
   "metadata": {},
   "outputs": [
    {
     "name": "stdout",
     "output_type": "stream",
     "text": [
      "Número de puntos en la malla: 1002"
     ]
    },
    {
     "data": {
      "text/plain": [
       "0.1021340826515684"
      ]
     },
     "execution_count": 17,
     "metadata": {},
     "output_type": "execute_result"
    }
   ],
   "source": [
    "#mod(N,3)=0\n",
    "x = collect(range(0,stop=5,length=1002)) #1002/3=334\n",
    "print(\"Número de puntos en la malla: \", length(x))\n",
    "y = f(x)\n",
    "integral_0=int_num_simp(x,y)"
   ]
  },
  {
   "cell_type": "code",
   "execution_count": 18,
   "metadata": {},
   "outputs": [
    {
     "name": "stdout",
     "output_type": "stream",
     "text": [
      "Número de puntos en la malla: 1003"
     ]
    },
    {
     "data": {
      "text/plain": [
       "0.1021340826446728"
      ]
     },
     "execution_count": 18,
     "metadata": {},
     "output_type": "execute_result"
    }
   ],
   "source": [
    "#mod(N,3)=1\n",
    "x = collect(range(0,stop=5,length=1003))\n",
    "print(\"Número de puntos en la malla: \", length(x))\n",
    "y = f(x)\n",
    "integral_1=int_num_simp(x,y)"
   ]
  },
  {
   "cell_type": "code",
   "execution_count": 19,
   "metadata": {},
   "outputs": [
    {
     "name": "stdout",
     "output_type": "stream",
     "text": [
      "Número de puntos en la malla: 1004"
     ]
    },
    {
     "data": {
      "text/plain": [
       "0.1021341911487815"
      ]
     },
     "execution_count": 19,
     "metadata": {},
     "output_type": "execute_result"
    }
   ],
   "source": [
    "#mod(N,3)=2\n",
    "x = collect(range(0,stop=5,length=1004))\n",
    "print(\"Número de puntos en la malla: \", length(x))\n",
    "y = f(x)\n",
    "integral_2=int_num_simp(x,y)"
   ]
  },
  {
   "cell_type": "code",
   "execution_count": 20,
   "metadata": {},
   "outputs": [
    {
     "name": "stdout",
     "output_type": "stream",
     "text": [
      "El error para el caso mod(N,3)=0 es: 8.265156839493137e-8"
     ]
    }
   ],
   "source": [
    "print(\"El error para el caso mod(N,3)=0 es: \",abs(integral_0-0.102134))"
   ]
  },
  {
   "cell_type": "code",
   "execution_count": 21,
   "metadata": {},
   "outputs": [
    {
     "name": "stdout",
     "output_type": "stream",
     "text": [
      "El error para el caso mod(N,3)=1 es: 8.264467279972543e-8"
     ]
    }
   ],
   "source": [
    "print(\"El error para el caso mod(N,3)=1 es: \",abs(integral_1-0.102134))"
   ]
  },
  {
   "cell_type": "code",
   "execution_count": 22,
   "metadata": {},
   "outputs": [
    {
     "name": "stdout",
     "output_type": "stream",
     "text": [
      "El error para el caso mod(N,3)=2 es: 1.9114878149761871e-7"
     ]
    }
   ],
   "source": [
    "print(\"El error para el caso mod(N,3)=2 es: \",abs(integral_2-0.102134))"
   ]
  },
  {
   "cell_type": "markdown",
   "metadata": {},
   "source": [
    "Observamos que en todos los casos se tiene una precisión mayor a $10^{-4}$."
   ]
  },
  {
   "cell_type": "markdown",
   "metadata": {},
   "source": [
    "**b)** $$ \\int_{-5}^5 f^2(x) dx $$\n",
    "\n",
    "El resultado analítico de esta integral es 0.6266570686577501 (Calculado en Wolfram)"
   ]
  },
  {
   "cell_type": "code",
   "execution_count": 23,
   "metadata": {},
   "outputs": [
    {
     "name": "stdout",
     "output_type": "stream",
     "text": [
      "Número de puntos en la malla: 1002"
     ]
    },
    {
     "data": {
      "text/plain": [
       "0.626657068657743"
      ]
     },
     "execution_count": 23,
     "metadata": {},
     "output_type": "execute_result"
    }
   ],
   "source": [
    "#mod(N,3)=0\n",
    "x = collect(range(-5,stop=5,length=1002)) #1002/3=334\n",
    "print(\"Número de puntos en la malla: \", length(x))\n",
    "y = (f(x)).^2\n",
    "integral_0=int_num_simp(x,y)"
   ]
  },
  {
   "cell_type": "code",
   "execution_count": 24,
   "metadata": {},
   "outputs": [
    {
     "name": "stdout",
     "output_type": "stream",
     "text": [
      "Número de puntos en la malla: 1003"
     ]
    },
    {
     "data": {
      "text/plain": [
       "0.626657068657726"
      ]
     },
     "execution_count": 24,
     "metadata": {},
     "output_type": "execute_result"
    }
   ],
   "source": [
    "#mod(N,3)=1\n",
    "x = collect(range(-5,stop=5,length=1003))\n",
    "print(\"Número de puntos en la malla: \", length(x))\n",
    "y = (f(x)).^2\n",
    "integral_1=int_num_simp(x,y)"
   ]
  },
  {
   "cell_type": "code",
   "execution_count": 25,
   "metadata": {},
   "outputs": [
    {
     "name": "stdout",
     "output_type": "stream",
     "text": [
      "Número de puntos en la malla: 1004"
     ]
    },
    {
     "data": {
      "text/plain": [
       "0.6266570686577579"
      ]
     },
     "execution_count": 25,
     "metadata": {},
     "output_type": "execute_result"
    }
   ],
   "source": [
    "#mod(N,3)=2\n",
    "x = collect(range(-5,stop=5,length=1004))\n",
    "print(\"Número de puntos en la malla: \", length(x))\n",
    "y = (f(x)).^2\n",
    "integral_2=int_num_simp(x,y)"
   ]
  },
  {
   "cell_type": "code",
   "execution_count": 26,
   "metadata": {},
   "outputs": [
    {
     "name": "stdout",
     "output_type": "stream",
     "text": [
      "El error para el caso mod(N,3)=0 es: 7.105427357601002e-15"
     ]
    }
   ],
   "source": [
    "print(\"El error para el caso mod(N,3)=0 es: \",abs(integral_0-0.6266570686577501))"
   ]
  },
  {
   "cell_type": "code",
   "execution_count": 27,
   "metadata": {},
   "outputs": [
    {
     "name": "stdout",
     "output_type": "stream",
     "text": [
      "El error para el caso mod(N,3)=1 es: 2.4091839634365897e-14"
     ]
    }
   ],
   "source": [
    "print(\"El error para el caso mod(N,3)=1 es: \",abs(integral_1-0.6266570686577501))"
   ]
  },
  {
   "cell_type": "code",
   "execution_count": 28,
   "metadata": {},
   "outputs": [
    {
     "name": "stdout",
     "output_type": "stream",
     "text": [
      "El error para el caso mod(N,3)=2 es: 7.882583474838611e-15"
     ]
    }
   ],
   "source": [
    "print(\"El error para el caso mod(N,3)=2 es: \",abs(integral_2-0.6266570686577501))"
   ]
  },
  {
   "cell_type": "markdown",
   "metadata": {},
   "source": [
    "Observamos que en todos los casos se tiene una precisión mayor a $10^{-4}$."
   ]
  },
  {
   "cell_type": "markdown",
   "metadata": {},
   "source": [
    "**c)** $$ \\int_{0.5}^5 g(x) dx $$\n",
    "\n",
    "El resultado analítico de esta integral es 173.382 (Calculado numéricamente en Wolfram)"
   ]
  },
  {
   "cell_type": "code",
   "execution_count": 29,
   "metadata": {},
   "outputs": [
    {
     "name": "stdout",
     "output_type": "stream",
     "text": [
      "Número de puntos en la malla: 10002"
     ]
    },
    {
     "data": {
      "text/plain": [
       "173.38194621589219"
      ]
     },
     "execution_count": 29,
     "metadata": {},
     "output_type": "execute_result"
    }
   ],
   "source": [
    "#mod(N,3)=0\n",
    "x = collect(range(0.5,stop=5,length=10002)) #10002/3=3334\n",
    "print(\"Número de puntos en la malla: \", length(x))\n",
    "y = g(x)\n",
    "integral_0=int_num_simp(x,y)"
   ]
  },
  {
   "cell_type": "code",
   "execution_count": 30,
   "metadata": {},
   "outputs": [
    {
     "name": "stdout",
     "output_type": "stream",
     "text": [
      "Número de puntos en la malla: 10003"
     ]
    },
    {
     "data": {
      "text/plain": [
       "173.381946216445"
      ]
     },
     "execution_count": 30,
     "metadata": {},
     "output_type": "execute_result"
    }
   ],
   "source": [
    "#mod(N,3)=1\n",
    "x = collect(range(0.5,stop=5,length=10003))\n",
    "print(\"Número de puntos en la malla: \", length(x))\n",
    "y = g(x)\n",
    "integral_1=int_num_simp(x,y)"
   ]
  },
  {
   "cell_type": "code",
   "execution_count": 31,
   "metadata": {},
   "outputs": [
    {
     "name": "stdout",
     "output_type": "stream",
     "text": [
      "Número de puntos en la malla: 10004"
     ]
    },
    {
     "data": {
      "text/plain": [
       "173.38194669097038"
      ]
     },
     "execution_count": 31,
     "metadata": {},
     "output_type": "execute_result"
    }
   ],
   "source": [
    "#mod(N,3)=2\n",
    "x = collect(range(0.5,stop=5,length=10004))\n",
    "print(\"Número de puntos en la malla: \", length(x))\n",
    "y = g(x)\n",
    "integral_2=int_num_simp(x,y)"
   ]
  },
  {
   "cell_type": "code",
   "execution_count": 32,
   "metadata": {},
   "outputs": [
    {
     "name": "stdout",
     "output_type": "stream",
     "text": [
      "El error para el caso mod(N,3)=0 es: 5.378410781986531e-5"
     ]
    }
   ],
   "source": [
    "print(\"El error para el caso mod(N,3)=0 es: \",abs(integral_0-173.382))"
   ]
  },
  {
   "cell_type": "code",
   "execution_count": 33,
   "metadata": {},
   "outputs": [
    {
     "name": "stdout",
     "output_type": "stream",
     "text": [
      "El error para el caso mod(N,3)=1 es: 5.378355501761689e-5"
     ]
    }
   ],
   "source": [
    "print(\"El error para el caso mod(N,3)=1 es: \",abs(integral_1-173.382))"
   ]
  },
  {
   "cell_type": "code",
   "execution_count": 34,
   "metadata": {},
   "outputs": [
    {
     "name": "stdout",
     "output_type": "stream",
     "text": [
      "El error para el caso mod(N,3)=2 es: 5.3309029624415416e-5"
     ]
    }
   ],
   "source": [
    "print(\"El error para el caso mod(N,3)=2 es: \",abs(integral_2-173.382))"
   ]
  },
  {
   "cell_type": "markdown",
   "metadata": {},
   "source": [
    "Observamos que en todos los casos se tiene una precisión mayor a $10^{-4}$."
   ]
  },
  {
   "cell_type": "markdown",
   "metadata": {},
   "source": [
    "## 3. Haga una función que implemente la integral numérica utilizando la regla de \"Boole\"."
   ]
  },
  {
   "cell_type": "markdown",
   "metadata": {},
   "source": [
    "La integral numérica utilizando la regla de \"Boole\" está dada por la siguiente relación:\n",
    "\n",
    "$$ \\int_{x_i}^{x_{i+4}} f(x) dx = \\frac{2h}{45} (7f(x_i) + 32f(x_{i+1}) + 12f(x_{i+2}) + 32f(x_{i+3}) + 7f(x_{i+4})) + \\mathbb O(h^7) $$\n",
    "\n",
    "donde se desprecian los términos $\\mathbb O (h^7)$.\n",
    "\n",
    "Nuevamente tendremos que considerar distintos casos. Observamos que para calcular la integral en el punto $x_i$ se contemplan los puntos $x_{i+1}$,$x_{i+2}$,$x_{i+3}$ y $x_{i+4}$, es decir, empieza en $i=1$ y se avanza de 4 en 4, por lo que la suma termina en $N-4$. Sin embargo, puede suceder que el número de puntos en la malla sea tal que lleguen a sobrar 1, 2 ó 3 puntos.  \n",
    "\n",
    "Por lo tanto, tomaremos la misma idea del problema 2. Si sobran 3 puntos utilizaremos el algoritmo de Simpson para dichos puntos, si sobran 2 puntos utilizaremos el algoritmo del problema 1 y si sobra 1 punto utilizaremos la parte del algoritmo del problema 1 que obtuvimos para el primer intervalo. \n",
    "\n",
    "A continuación procedemos a programar lo anterior. \n",
    " "
   ]
  },
  {
   "cell_type": "code",
   "execution_count": 35,
   "metadata": {},
   "outputs": [
    {
     "data": {
      "text/plain": [
       "int_num_boole (generic function with 1 method)"
      ]
     },
     "execution_count": 35,
     "metadata": {},
     "output_type": "execute_result"
    }
   ],
   "source": [
    "function int_num_boole(x,y) #x-malla de puntos, y-función a la cual le vamos a calcular su integral\n",
    "    integral = 0 #Definimos la integral para poder utilizarla más adelante\n",
    "    h = x[2] - x[1] #h siempre tendrá el mismo valor porque se trata de una malla uniforme\n",
    "    \n",
    "    if mod(length(y),4) == 1 #No sobra ningún punto\n",
    "        inicio = 1\n",
    "    end\n",
    "    if mod(length(y),4) == 2 #Sobra 1 punto\n",
    "        inicio = 2\n",
    "    end\n",
    "    \n",
    "    if mod(length(y),4) == 3 #Sobran 2 puntos\n",
    "        inicio = 3\n",
    "    end\n",
    "    \n",
    "    if mod(length(y),4) == 0 #Sobran 3 puntos\n",
    "        inicio = 4\n",
    "    end\n",
    "    \n",
    "    for i in inicio:4:length(y)-4 #Avanza de 4 en 4 y termina en N-4\n",
    "        integral += 7*y[i] + 32*y[i+1] + 12*y[i+2] + 32*y[i+3] + 7*y[i+4]\n",
    "    end\n",
    "    integral = integral*(2*h/45)\n",
    "        \n",
    "    #Ahora utilizaremos el algoritmo del problema 1 y el algoritmo de Simpson \n",
    "    #para agregar lo correspondiente al 1er intervalo, a los primeros 2 intervalos \n",
    "    #ó a los primeros 3 intervalos. \n",
    "    \n",
    "    #Expresión para el 1er intervalo     \n",
    "    if mod(length(y),4) == 2 #Sobra 1 punto\n",
    "        integral += (h/48)*(23*y[1] + 26*y[2] - 4*y[3] + 6*y[4] -3*y[5])\n",
    "    end\n",
    "    \n",
    "    #Expresión para los primeros 2 intervalos \n",
    "    if mod(length(y),4) == 3 #Sobran 2 puntos\n",
    "        integral += (h/3)*(y[3] + 4*y[2] + y[1])\n",
    "    end\n",
    "    \n",
    "    #Expresión para los primeros 3 intervalos\n",
    "    if mod(length(y),4) == 0 #Sobran 3 puntos\n",
    "        integral += (3*h/8)*(y[1] + 3*y[2] + 3*y[3] + y[4])\n",
    "    end\n",
    "    \n",
    "    return integral\n",
    "end"
   ]
  },
  {
   "cell_type": "markdown",
   "metadata": {},
   "source": [
    "Vamos a calcular ahora las integrales del problema 1."
   ]
  },
  {
   "cell_type": "markdown",
   "metadata": {},
   "source": [
    "En cada inciso calcularemos la integral para todos los casos que contemplamos arriba, para probar que nuestro algoritmo funciona bien.\n",
    "\n",
    "**a)** $$ \\int_0^5 f(x) dx $$\n",
    "\n",
    "El resultado analítico de esta integral es 0.102134 (Calculado numéricamente en Wolfram)"
   ]
  },
  {
   "cell_type": "code",
   "execution_count": 36,
   "metadata": {},
   "outputs": [
    {
     "name": "stdout",
     "output_type": "stream",
     "text": [
      "Número de puntos en la malla: 1004"
     ]
    },
    {
     "data": {
      "text/plain": [
       "0.10213407452387493"
      ]
     },
     "execution_count": 36,
     "metadata": {},
     "output_type": "execute_result"
    }
   ],
   "source": [
    "#mod(N,4)=0\n",
    "x = collect(range(0,stop=5,length=1004)) #1004/4=251\n",
    "print(\"Número de puntos en la malla: \", length(x))\n",
    "y = f(x)\n",
    "integral_0=int_num_boole(x,y)"
   ]
  },
  {
   "cell_type": "code",
   "execution_count": 37,
   "metadata": {},
   "outputs": [
    {
     "name": "stdout",
     "output_type": "stream",
     "text": [
      "Número de puntos en la malla: 1005"
     ]
    },
    {
     "data": {
      "text/plain": [
       "0.10213407441989779"
      ]
     },
     "execution_count": 37,
     "metadata": {},
     "output_type": "execute_result"
    }
   ],
   "source": [
    "#mod(N,4)=1\n",
    "x = collect(range(0,stop=5,length=1005))\n",
    "print(\"Número de puntos en la malla: \", length(x))\n",
    "y = f(x)\n",
    "integral_1=int_num_boole(x,y)"
   ]
  },
  {
   "cell_type": "code",
   "execution_count": 38,
   "metadata": {},
   "outputs": [
    {
     "name": "stdout",
     "output_type": "stream",
     "text": [
      "Número de puntos en la malla: 1006"
     ]
    },
    {
     "data": {
      "text/plain": [
       "0.10213418210904288"
      ]
     },
     "execution_count": 38,
     "metadata": {},
     "output_type": "execute_result"
    }
   ],
   "source": [
    "#mod(N,4)=2\n",
    "x = collect(range(0,stop=5,length=1006))\n",
    "print(\"Número de puntos en la malla: \", length(x))\n",
    "y = f(x)\n",
    "integral_2=int_num_boole(x,y)"
   ]
  },
  {
   "cell_type": "code",
   "execution_count": 39,
   "metadata": {},
   "outputs": [
    {
     "name": "stdout",
     "output_type": "stream",
     "text": [
      "Número de puntos en la malla: 1007"
     ]
    },
    {
     "data": {
      "text/plain": [
       "0.10213407444015357"
      ]
     },
     "execution_count": 39,
     "metadata": {},
     "output_type": "execute_result"
    }
   ],
   "source": [
    "#mod(N,4)=3\n",
    "x = collect(range(0,stop=5,length=1007))\n",
    "print(\"Número de puntos en la malla: \", length(x))\n",
    "y = f(x)\n",
    "integral_3=int_num_boole(x,y)"
   ]
  },
  {
   "cell_type": "code",
   "execution_count": 40,
   "metadata": {},
   "outputs": [
    {
     "name": "stdout",
     "output_type": "stream",
     "text": [
      "El error para el caso mod(N,4)=0 es: 7.452387493223078e-8"
     ]
    }
   ],
   "source": [
    "print(\"El error para el caso mod(N,4)=0 es: \",abs(integral_0-0.102134))"
   ]
  },
  {
   "cell_type": "code",
   "execution_count": 41,
   "metadata": {},
   "outputs": [
    {
     "name": "stdout",
     "output_type": "stream",
     "text": [
      "El error para el caso mod(N,4)=1 es: 7.441989778589342e-8"
     ]
    }
   ],
   "source": [
    "print(\"El error para el caso mod(N,4)=1 es: \",abs(integral_1-0.102134))"
   ]
  },
  {
   "cell_type": "code",
   "execution_count": 42,
   "metadata": {},
   "outputs": [
    {
     "name": "stdout",
     "output_type": "stream",
     "text": [
      "El error para el caso mod(N,4)=2 es: 1.8210904287330187e-7"
     ]
    }
   ],
   "source": [
    "print(\"El error para el caso mod(N,4)=2 es: \",abs(integral_2-0.102134))"
   ]
  },
  {
   "cell_type": "code",
   "execution_count": 43,
   "metadata": {},
   "outputs": [
    {
     "name": "stdout",
     "output_type": "stream",
     "text": [
      "El error para el caso mod(N,4)=3 es: 7.444015356905531e-8"
     ]
    }
   ],
   "source": [
    "print(\"El error para el caso mod(N,4)=3 es: \",abs(integral_3-0.102134))"
   ]
  },
  {
   "cell_type": "markdown",
   "metadata": {},
   "source": [
    "Observamos que en todos los casos se tiene una precisión mayor a $10^{-4}$."
   ]
  },
  {
   "cell_type": "markdown",
   "metadata": {},
   "source": [
    "**b)** $$ \\int_{-5}^5 f^2(x) dx $$\n",
    "\n",
    "El resultado analítico de esta integral es 0.6266570686577501 (Calculado en Wolfram)"
   ]
  },
  {
   "cell_type": "code",
   "execution_count": 44,
   "metadata": {},
   "outputs": [
    {
     "name": "stdout",
     "output_type": "stream",
     "text": [
      "Número de puntos en la malla: 1004"
     ]
    },
    {
     "data": {
      "text/plain": [
       "0.6266570686577587"
      ]
     },
     "execution_count": 44,
     "metadata": {},
     "output_type": "execute_result"
    }
   ],
   "source": [
    "#mod(N,4)=0\n",
    "x = collect(range(-5,stop=5,length=1004)) #1004/4=251\n",
    "print(\"Número de puntos en la malla: \", length(x))\n",
    "y = (f(x)).^2\n",
    "integral_0=int_num_boole(x,y)"
   ]
  },
  {
   "cell_type": "code",
   "execution_count": 45,
   "metadata": {},
   "outputs": [
    {
     "name": "stdout",
     "output_type": "stream",
     "text": [
      "Número de puntos en la malla: 1005"
     ]
    },
    {
     "data": {
      "text/plain": [
       "0.6266570686577777"
      ]
     },
     "execution_count": 45,
     "metadata": {},
     "output_type": "execute_result"
    }
   ],
   "source": [
    "#mod(N,4)=1\n",
    "x = collect(range(-5,stop=5,length=1005))\n",
    "print(\"Número de puntos en la malla: \", length(x))\n",
    "y = (f(x)).^2\n",
    "integral_1=int_num_boole(x,y)"
   ]
  },
  {
   "cell_type": "code",
   "execution_count": 46,
   "metadata": {},
   "outputs": [
    {
     "name": "stdout",
     "output_type": "stream",
     "text": [
      "Número de puntos en la malla: 1006"
     ]
    },
    {
     "data": {
      "text/plain": [
       "0.6266570686577612"
      ]
     },
     "execution_count": 46,
     "metadata": {},
     "output_type": "execute_result"
    }
   ],
   "source": [
    "#mod(N,4)=2\n",
    "x = collect(range(-5,stop=5,length=1006))\n",
    "print(\"Número de puntos en la malla: \", length(x))\n",
    "y = (f(x)).^2\n",
    "integral_2=int_num_boole(x,y)"
   ]
  },
  {
   "cell_type": "code",
   "execution_count": 47,
   "metadata": {},
   "outputs": [
    {
     "name": "stdout",
     "output_type": "stream",
     "text": [
      "Número de puntos en la malla: 1007"
     ]
    },
    {
     "data": {
      "text/plain": [
       "0.6266570686577506"
      ]
     },
     "execution_count": 47,
     "metadata": {},
     "output_type": "execute_result"
    }
   ],
   "source": [
    "#mod(N,4)=3\n",
    "x = collect(range(-5,stop=5,length=1007))\n",
    "print(\"Número de puntos en la malla: \", length(x))\n",
    "y = (f(x)).^2\n",
    "integral_3=int_num_boole(x,y)"
   ]
  },
  {
   "cell_type": "code",
   "execution_count": 48,
   "metadata": {},
   "outputs": [
    {
     "name": "stdout",
     "output_type": "stream",
     "text": [
      "El error para el caso mod(N,4)=0 es: 8.659739592076221e-15"
     ]
    }
   ],
   "source": [
    "print(\"El error para el caso mod(N,4)=0 es: \",abs(integral_0-0.6266570686577501))"
   ]
  },
  {
   "cell_type": "code",
   "execution_count": 49,
   "metadata": {},
   "outputs": [
    {
     "name": "stdout",
     "output_type": "stream",
     "text": [
      "El error para el caso mod(N,4)=1 es: 2.7644553313166398e-14"
     ]
    }
   ],
   "source": [
    "print(\"El error para el caso mod(N,4)=1 es: \",abs(integral_1-0.6266570686577501))"
   ]
  },
  {
   "cell_type": "code",
   "execution_count": 50,
   "metadata": {},
   "outputs": [
    {
     "name": "stdout",
     "output_type": "stream",
     "text": [
      "El error para el caso mod(N,4)=2 es: 1.1102230246251565e-14"
     ]
    }
   ],
   "source": [
    "print(\"El error para el caso mod(N,4)=2 es: \",abs(integral_2-0.6266570686577501))"
   ]
  },
  {
   "cell_type": "code",
   "execution_count": 51,
   "metadata": {},
   "outputs": [
    {
     "name": "stdout",
     "output_type": "stream",
     "text": [
      "El error para el caso mod(N,4)=3 es: 5.551115123125783e-16"
     ]
    }
   ],
   "source": [
    "print(\"El error para el caso mod(N,4)=3 es: \",abs(integral_3-0.6266570686577501))"
   ]
  },
  {
   "cell_type": "markdown",
   "metadata": {},
   "source": [
    "Observamos que en todos los casos se tiene una precisión mayor a $10^{-4}$."
   ]
  },
  {
   "cell_type": "markdown",
   "metadata": {},
   "source": [
    "**c)** $$ \\int_{0.5}^5 g(x) dx $$\n",
    "\n",
    "El resultado analítico de esta integral es 173.382 (Calculado numéricamente en Wolfram)"
   ]
  },
  {
   "cell_type": "code",
   "execution_count": 52,
   "metadata": {},
   "outputs": [
    {
     "name": "stdout",
     "output_type": "stream",
     "text": [
      "Número de puntos en la malla: 1004"
     ]
    },
    {
     "data": {
      "text/plain": [
       "173.38206507053246"
      ]
     },
     "execution_count": 52,
     "metadata": {},
     "output_type": "execute_result"
    }
   ],
   "source": [
    "#mod(N,4)=0\n",
    "x = collect(range(0.5,stop=5,length=1004)) #1004/4=251\n",
    "print(\"Número de puntos en la malla: \", length(x))\n",
    "y = g(x)\n",
    "integral_0=int_num_boole(x,y)"
   ]
  },
  {
   "cell_type": "code",
   "execution_count": 53,
   "metadata": {},
   "outputs": [
    {
     "name": "stdout",
     "output_type": "stream",
     "text": [
      "Número de puntos en la malla: 1005"
     ]
    },
    {
     "data": {
      "text/plain": [
       "173.38194734163423"
      ]
     },
     "execution_count": 53,
     "metadata": {},
     "output_type": "execute_result"
    }
   ],
   "source": [
    "#mod(N,4)=1\n",
    "x = collect(range(0.5,stop=5,length=1005))\n",
    "print(\"Número de puntos en la malla: \", length(x))\n",
    "y = g(x)\n",
    "integral_1=int_num_boole(x,y)"
   ]
  },
  {
   "cell_type": "code",
   "execution_count": 54,
   "metadata": {},
   "outputs": [
    {
     "name": "stdout",
     "output_type": "stream",
     "text": [
      "Número de puntos en la malla: 10006"
     ]
    },
    {
     "data": {
      "text/plain": [
       "173.3819466546472"
      ]
     },
     "execution_count": 54,
     "metadata": {},
     "output_type": "execute_result"
    }
   ],
   "source": [
    "#mod(N,4)=2\n",
    "x = collect(range(0.5,stop=5,length=10006))\n",
    "print(\"Número de puntos en la malla: \", length(x))\n",
    "y = g(x)\n",
    "integral_2=int_num_boole(x,y)"
   ]
  },
  {
   "cell_type": "code",
   "execution_count": 55,
   "metadata": {},
   "outputs": [
    {
     "name": "stdout",
     "output_type": "stream",
     "text": [
      "Número de puntos en la malla: 1007"
     ]
    },
    {
     "data": {
      "text/plain": [
       "173.38198400230505"
      ]
     },
     "execution_count": 55,
     "metadata": {},
     "output_type": "execute_result"
    }
   ],
   "source": [
    "#mod(N,4)=3\n",
    "x = collect(range(0.5,stop=5,length=1007))\n",
    "print(\"Número de puntos en la malla: \", length(x))\n",
    "y = g(x)\n",
    "integral_3=int_num_boole(x,y)"
   ]
  },
  {
   "cell_type": "code",
   "execution_count": 56,
   "metadata": {},
   "outputs": [
    {
     "name": "stdout",
     "output_type": "stream",
     "text": [
      "El error para el caso mod(N,4)=0 es: 6.50705324574119e-5"
     ]
    }
   ],
   "source": [
    "print(\"El error para el caso mod(N,4)=0 es: \",abs(integral_0-173.382))"
   ]
  },
  {
   "cell_type": "code",
   "execution_count": 57,
   "metadata": {},
   "outputs": [
    {
     "name": "stdout",
     "output_type": "stream",
     "text": [
      "El error para el caso mod(N,4)=1 es: 5.2658365774505e-5"
     ]
    }
   ],
   "source": [
    "print(\"El error para el caso mod(N,4)=1 es: \",abs(integral_1-173.382))"
   ]
  },
  {
   "cell_type": "code",
   "execution_count": 58,
   "metadata": {},
   "outputs": [
    {
     "name": "stdout",
     "output_type": "stream",
     "text": [
      "El error para el caso mod(N,4)=2 es: 5.334535279644115e-5"
     ]
    }
   ],
   "source": [
    "print(\"El error para el caso mod(N,4)=2 es: \",abs(integral_2-173.382))"
   ]
  },
  {
   "cell_type": "code",
   "execution_count": 59,
   "metadata": {},
   "outputs": [
    {
     "name": "stdout",
     "output_type": "stream",
     "text": [
      "El error para el caso mod(N,4)=3 es: 1.5997694958969078e-5"
     ]
    }
   ],
   "source": [
    "print(\"El error para el caso mod(N,4)=3 es: \",abs(integral_3-173.382))"
   ]
  },
  {
   "cell_type": "markdown",
   "metadata": {},
   "source": [
    "Observamos que en todos los casos se tiene una precisión mayor a $10^{-4}$."
   ]
  },
  {
   "cell_type": "markdown",
   "metadata": {},
   "source": [
    "## 4. Utilizando la integral del problema 1(a), realice una tabla en la que se muestre la convergencia de los 3 algoritmos anteriores comenzando con $h = 0.25$ hasta $h = 0.001$. La tabla debe tener por lo menos 30 diferentes h’s. Obtenga el número de puntos en la malla para cada h y haga una gráfica en la que se muestre la convergencia de los 3 algoritmos, *Número de puntos vs valor de la integral.*\n"
   ]
  },
  {
   "cell_type": "markdown",
   "metadata": {},
   "source": [
    "Importaremos los siguientes paquetes para poder realizar la tabla y la gráfica. "
   ]
  },
  {
   "cell_type": "code",
   "execution_count": 60,
   "metadata": {},
   "outputs": [],
   "source": [
    "using DataFrames #Paqueteria para realizar la tabla"
   ]
  },
  {
   "cell_type": "code",
   "execution_count": 61,
   "metadata": {},
   "outputs": [],
   "source": [
    "using Plots #Paquetera para graficar"
   ]
  },
  {
   "cell_type": "markdown",
   "metadata": {},
   "source": [
    "Veamos ahora cuantos puntos tiene una malla para la integral del problema 1a) con separación de 0.25 y 0.001"
   ]
  },
  {
   "cell_type": "code",
   "execution_count": 62,
   "metadata": {},
   "outputs": [
    {
     "data": {
      "text/plain": [
       "5001"
      ]
     },
     "execution_count": 62,
     "metadata": {},
     "output_type": "execute_result"
    }
   ],
   "source": [
    "length(collect(range(0, step=0.001, stop=5)))"
   ]
  },
  {
   "cell_type": "code",
   "execution_count": 63,
   "metadata": {},
   "outputs": [
    {
     "data": {
      "text/plain": [
       "21"
      ]
     },
     "execution_count": 63,
     "metadata": {},
     "output_type": "execute_result"
    }
   ],
   "source": [
    "length(collect(range(0, step=0.25, stop=5)))"
   ]
  },
  {
   "cell_type": "markdown",
   "metadata": {},
   "source": [
    "Por lo que, partimos de 21 puntos hasta 5001. Luego, como queremos que tenga mínimo 30 diferentes h's hacemos lo siguiente:\n",
    "\n",
    "$$ 5001-21=4980 \\Rightarrow \\frac{4980}{30}=166 $$\n",
    "\n",
    "Por lo tanto, tendremos un espaciamiento de 166. "
   ]
  },
  {
   "cell_type": "code",
   "execution_count": 64,
   "metadata": {},
   "outputs": [
    {
     "data": {
      "text/plain": [
       "31"
      ]
     },
     "execution_count": 64,
     "metadata": {},
     "output_type": "execute_result"
    }
   ],
   "source": [
    "length(collect(range(21, step=166, stop=5001))) #Tiene un tamaño de 31 porque si se cuenta el primer elemento"
   ]
  },
  {
   "cell_type": "markdown",
   "metadata": {},
   "source": [
    "Procedemos a acomodar todos los valores en arreglos para poder realizar la tabla con ellos. "
   ]
  },
  {
   "cell_type": "code",
   "execution_count": 65,
   "metadata": {},
   "outputs": [],
   "source": [
    "num_puntos=collect(range(21,step=166,stop=5001))\n",
    "int_1=collect(zeros(length(num_puntos))) #Arreglo que va a ser llenado con los valores de la integral utilizando el algoritmo int_num\n",
    "int_2=collect(zeros(length(num_puntos))) #Arreglo que va a ser llenado con los valores de la integral utilizando el algoritmo int_simp\n",
    "int_3=collect(zeros(length(num_puntos))) #Arreglo que va a ser llenado con los valores de la integral utilizando el algoritmo int_boole\n",
    "for i in 1:length(num_puntos)\n",
    "    x = collect(range(0,stop=5, length=num_puntos[i])) #El número de puntos en x va a ir variando desde 21 hasta 5001, que corresponde\n",
    "    #al número de puntos de una malla con espaciamiento de 0.25 hasta 0.001\n",
    "    int_1[i]=int_num(x,f(x))\n",
    "    int_2[i]=int_num_simp(x,f(x))\n",
    "    int_3[i]=int_num_boole(x,f(x))   \n",
    "end"
   ]
  },
  {
   "cell_type": "markdown",
   "metadata": {},
   "source": [
    "**Tabla:**"
   ]
  },
  {
   "cell_type": "code",
   "execution_count": 69,
   "metadata": {},
   "outputs": [
    {
     "data": {
      "text/html": [
       "<table class=\"data-frame\"><thead><tr><th></th><th>h</th><th>Num_puntos</th><th>Integral_Num</th><th>Integral_Simp</th><th>Integral_Boole</th></tr><tr><th></th><th>Float64</th><th>Int64</th><th>Float64</th><th>Float64</th><th>Float64</th></tr></thead><tbody><p>31 rows × 5 columns</p><tr><th>1</th><td>0.25</td><td>21</td><td>0.201136</td><td>0.155257</td><td>0.24878</td></tr><tr><th>2</th><td>0.2417</td><td>187</td><td>0.102137</td><td>0.102141</td><td>0.102134</td></tr><tr><th>3</th><td>0.2334</td><td>353</td><td>0.102134</td><td>0.102142</td><td>0.102134</td></tr><tr><th>4</th><td>0.2251</td><td>519</td><td>0.102134</td><td>0.102134</td><td>0.102134</td></tr><tr><th>5</th><td>0.2168</td><td>685</td><td>0.102134</td><td>0.102134</td><td>0.102134</td></tr><tr><th>6</th><td>0.2085</td><td>851</td><td>0.102134</td><td>0.102134</td><td>0.102134</td></tr><tr><th>7</th><td>0.2002</td><td>1017</td><td>0.102134</td><td>0.102134</td><td>0.102134</td></tr><tr><th>8</th><td>0.1919</td><td>1183</td><td>0.102134</td><td>0.102134</td><td>0.102134</td></tr><tr><th>9</th><td>0.1836</td><td>1349</td><td>0.102134</td><td>0.102134</td><td>0.102134</td></tr><tr><th>10</th><td>0.1753</td><td>1515</td><td>0.102134</td><td>0.102134</td><td>0.102134</td></tr><tr><th>11</th><td>0.167</td><td>1681</td><td>0.102134</td><td>0.102134</td><td>0.102134</td></tr><tr><th>12</th><td>0.1587</td><td>1847</td><td>0.102134</td><td>0.102134</td><td>0.102134</td></tr><tr><th>13</th><td>0.1504</td><td>2013</td><td>0.102134</td><td>0.102134</td><td>0.102134</td></tr><tr><th>14</th><td>0.1421</td><td>2179</td><td>0.102134</td><td>0.102134</td><td>0.102134</td></tr><tr><th>15</th><td>0.1338</td><td>2345</td><td>0.102134</td><td>0.102134</td><td>0.102134</td></tr><tr><th>16</th><td>0.1255</td><td>2511</td><td>0.102134</td><td>0.102134</td><td>0.102134</td></tr><tr><th>17</th><td>0.1172</td><td>2677</td><td>0.102134</td><td>0.102134</td><td>0.102134</td></tr><tr><th>18</th><td>0.1089</td><td>2843</td><td>0.102134</td><td>0.102134</td><td>0.102134</td></tr><tr><th>19</th><td>0.1006</td><td>3009</td><td>0.102134</td><td>0.102134</td><td>0.102134</td></tr><tr><th>20</th><td>0.0923</td><td>3175</td><td>0.102134</td><td>0.102134</td><td>0.102134</td></tr><tr><th>21</th><td>0.084</td><td>3341</td><td>0.102134</td><td>0.102134</td><td>0.102134</td></tr><tr><th>22</th><td>0.0757</td><td>3507</td><td>0.102134</td><td>0.102134</td><td>0.102134</td></tr><tr><th>23</th><td>0.0674</td><td>3673</td><td>0.102134</td><td>0.102134</td><td>0.102134</td></tr><tr><th>24</th><td>0.0591</td><td>3839</td><td>0.102134</td><td>0.102134</td><td>0.102134</td></tr><tr><th>25</th><td>0.0508</td><td>4005</td><td>0.102134</td><td>0.102134</td><td>0.102134</td></tr><tr><th>26</th><td>0.0425</td><td>4171</td><td>0.102134</td><td>0.102134</td><td>0.102134</td></tr><tr><th>27</th><td>0.0342</td><td>4337</td><td>0.102134</td><td>0.102134</td><td>0.102134</td></tr><tr><th>28</th><td>0.0259</td><td>4503</td><td>0.102134</td><td>0.102134</td><td>0.102134</td></tr><tr><th>29</th><td>0.0176</td><td>4669</td><td>0.102134</td><td>0.102134</td><td>0.102134</td></tr><tr><th>30</th><td>0.0093</td><td>4835</td><td>0.102134</td><td>0.102134</td><td>0.102134</td></tr><tr><th>&vellip;</th><td>&vellip;</td><td>&vellip;</td><td>&vellip;</td><td>&vellip;</td><td>&vellip;</td></tr></tbody></table>"
      ],
      "text/latex": [
       "\\begin{tabular}{r|ccccc}\n",
       "\t& h & Num\\_puntos & Integral\\_Num & Integral\\_Simp & Integral\\_Boole\\\\\n",
       "\t\\hline\n",
       "\t& Float64 & Int64 & Float64 & Float64 & Float64\\\\\n",
       "\t\\hline\n",
       "\t1 & 0.25 & 21 & 0.201136 & 0.155257 & 0.24878 \\\\\n",
       "\t2 & 0.2417 & 187 & 0.102137 & 0.102141 & 0.102134 \\\\\n",
       "\t3 & 0.2334 & 353 & 0.102134 & 0.102142 & 0.102134 \\\\\n",
       "\t4 & 0.2251 & 519 & 0.102134 & 0.102134 & 0.102134 \\\\\n",
       "\t5 & 0.2168 & 685 & 0.102134 & 0.102134 & 0.102134 \\\\\n",
       "\t6 & 0.2085 & 851 & 0.102134 & 0.102134 & 0.102134 \\\\\n",
       "\t7 & 0.2002 & 1017 & 0.102134 & 0.102134 & 0.102134 \\\\\n",
       "\t8 & 0.1919 & 1183 & 0.102134 & 0.102134 & 0.102134 \\\\\n",
       "\t9 & 0.1836 & 1349 & 0.102134 & 0.102134 & 0.102134 \\\\\n",
       "\t10 & 0.1753 & 1515 & 0.102134 & 0.102134 & 0.102134 \\\\\n",
       "\t11 & 0.167 & 1681 & 0.102134 & 0.102134 & 0.102134 \\\\\n",
       "\t12 & 0.1587 & 1847 & 0.102134 & 0.102134 & 0.102134 \\\\\n",
       "\t13 & 0.1504 & 2013 & 0.102134 & 0.102134 & 0.102134 \\\\\n",
       "\t14 & 0.1421 & 2179 & 0.102134 & 0.102134 & 0.102134 \\\\\n",
       "\t15 & 0.1338 & 2345 & 0.102134 & 0.102134 & 0.102134 \\\\\n",
       "\t16 & 0.1255 & 2511 & 0.102134 & 0.102134 & 0.102134 \\\\\n",
       "\t17 & 0.1172 & 2677 & 0.102134 & 0.102134 & 0.102134 \\\\\n",
       "\t18 & 0.1089 & 2843 & 0.102134 & 0.102134 & 0.102134 \\\\\n",
       "\t19 & 0.1006 & 3009 & 0.102134 & 0.102134 & 0.102134 \\\\\n",
       "\t20 & 0.0923 & 3175 & 0.102134 & 0.102134 & 0.102134 \\\\\n",
       "\t21 & 0.084 & 3341 & 0.102134 & 0.102134 & 0.102134 \\\\\n",
       "\t22 & 0.0757 & 3507 & 0.102134 & 0.102134 & 0.102134 \\\\\n",
       "\t23 & 0.0674 & 3673 & 0.102134 & 0.102134 & 0.102134 \\\\\n",
       "\t24 & 0.0591 & 3839 & 0.102134 & 0.102134 & 0.102134 \\\\\n",
       "\t25 & 0.0508 & 4005 & 0.102134 & 0.102134 & 0.102134 \\\\\n",
       "\t26 & 0.0425 & 4171 & 0.102134 & 0.102134 & 0.102134 \\\\\n",
       "\t27 & 0.0342 & 4337 & 0.102134 & 0.102134 & 0.102134 \\\\\n",
       "\t28 & 0.0259 & 4503 & 0.102134 & 0.102134 & 0.102134 \\\\\n",
       "\t29 & 0.0176 & 4669 & 0.102134 & 0.102134 & 0.102134 \\\\\n",
       "\t30 & 0.0093 & 4835 & 0.102134 & 0.102134 & 0.102134 \\\\\n",
       "\t$\\dots$ & $\\dots$ & $\\dots$ & $\\dots$ & $\\dots$ & $\\dots$ \\\\\n",
       "\\end{tabular}\n"
      ],
      "text/plain": [
       "31×5 DataFrame\n",
       "│ Row │ h       │ Num_puntos │ Integral_Num │ Integral_Simp │ Integral_Boole │\n",
       "│     │ \u001b[90mFloat64\u001b[39m │ \u001b[90mInt64\u001b[39m      │ \u001b[90mFloat64\u001b[39m      │ \u001b[90mFloat64\u001b[39m       │ \u001b[90mFloat64\u001b[39m        │\n",
       "├─────┼─────────┼────────────┼──────────────┼───────────────┼────────────────┤\n",
       "│ 1   │ 0.25    │ 21         │ 0.201136     │ 0.155257      │ 0.24878        │\n",
       "│ 2   │ 0.2417  │ 187        │ 0.102137     │ 0.102141      │ 0.102134       │\n",
       "│ 3   │ 0.2334  │ 353        │ 0.102134     │ 0.102142      │ 0.102134       │\n",
       "│ 4   │ 0.2251  │ 519        │ 0.102134     │ 0.102134      │ 0.102134       │\n",
       "│ 5   │ 0.2168  │ 685        │ 0.102134     │ 0.102134      │ 0.102134       │\n",
       "│ 6   │ 0.2085  │ 851        │ 0.102134     │ 0.102134      │ 0.102134       │\n",
       "│ 7   │ 0.2002  │ 1017       │ 0.102134     │ 0.102134      │ 0.102134       │\n",
       "│ 8   │ 0.1919  │ 1183       │ 0.102134     │ 0.102134      │ 0.102134       │\n",
       "│ 9   │ 0.1836  │ 1349       │ 0.102134     │ 0.102134      │ 0.102134       │\n",
       "│ 10  │ 0.1753  │ 1515       │ 0.102134     │ 0.102134      │ 0.102134       │\n",
       "⋮\n",
       "│ 21  │ 0.084   │ 3341       │ 0.102134     │ 0.102134      │ 0.102134       │\n",
       "│ 22  │ 0.0757  │ 3507       │ 0.102134     │ 0.102134      │ 0.102134       │\n",
       "│ 23  │ 0.0674  │ 3673       │ 0.102134     │ 0.102134      │ 0.102134       │\n",
       "│ 24  │ 0.0591  │ 3839       │ 0.102134     │ 0.102134      │ 0.102134       │\n",
       "│ 25  │ 0.0508  │ 4005       │ 0.102134     │ 0.102134      │ 0.102134       │\n",
       "│ 26  │ 0.0425  │ 4171       │ 0.102134     │ 0.102134      │ 0.102134       │\n",
       "│ 27  │ 0.0342  │ 4337       │ 0.102134     │ 0.102134      │ 0.102134       │\n",
       "│ 28  │ 0.0259  │ 4503       │ 0.102134     │ 0.102134      │ 0.102134       │\n",
       "│ 29  │ 0.0176  │ 4669       │ 0.102134     │ 0.102134      │ 0.102134       │\n",
       "│ 30  │ 0.0093  │ 4835       │ 0.102134     │ 0.102134      │ 0.102134       │\n",
       "│ 31  │ 0.001   │ 5001       │ 0.102134     │ 0.102134      │ 0.102134       │"
      ]
     },
     "execution_count": 69,
     "metadata": {},
     "output_type": "execute_result"
    }
   ],
   "source": [
    "DataFrame(h=collect(range(0.25,0.001,length=31)), Num_puntos=num_puntos,Integral_Num=int_1, Integral_Simp=int_2, Integral_Boole=int_3)"
   ]
  },
  {
   "cell_type": "markdown",
   "metadata": {},
   "source": [
    "Finalmente, vamos a graficar la convergencia de los 3 algoritmos:"
   ]
  },
  {
   "cell_type": "code",
   "execution_count": 70,
   "metadata": {},
   "outputs": [
    {
     "data": {
      "image/svg+xml": [
       "<?xml version=\"1.0\" encoding=\"utf-8\"?>\n",
       "<svg xmlns=\"http://www.w3.org/2000/svg\" xmlns:xlink=\"http://www.w3.org/1999/xlink\" width=\"600\" height=\"400\" viewBox=\"0 0 2400 1600\">\n",
       "<defs>\n",
       "  <clipPath id=\"clip980\">\n",
       "    <rect x=\"0\" y=\"0\" width=\"2400\" height=\"1600\"/>\n",
       "  </clipPath>\n",
       "</defs>\n",
       "<path clip-path=\"url(#clip980)\" d=\"\n",
       "M0 1600 L2400 1600 L2400 0 L0 0  Z\n",
       "  \" fill=\"#ffffff\" fill-rule=\"evenodd\" fill-opacity=\"1\"/>\n",
       "<defs>\n",
       "  <clipPath id=\"clip981\">\n",
       "    <rect x=\"480\" y=\"0\" width=\"1681\" height=\"1600\"/>\n",
       "  </clipPath>\n",
       "</defs>\n",
       "<path clip-path=\"url(#clip980)\" d=\"\n",
       "M237.019 1423.18 L2352.76 1423.18 L2352.76 47.2441 L237.019 47.2441  Z\n",
       "  \" fill=\"#ffffff\" fill-rule=\"evenodd\" fill-opacity=\"1\"/>\n",
       "<defs>\n",
       "  <clipPath id=\"clip982\">\n",
       "    <rect x=\"237\" y=\"47\" width=\"2117\" height=\"1377\"/>\n",
       "  </clipPath>\n",
       "</defs>\n",
       "<polyline clip-path=\"url(#clip982)\" style=\"stroke:#000000; stroke-width:2; stroke-opacity:0.1; fill:none\" points=\"\n",
       "  288.482,1423.18 288.482,47.2441 \n",
       "  \"/>\n",
       "<polyline clip-path=\"url(#clip982)\" style=\"stroke:#000000; stroke-width:2; stroke-opacity:0.1; fill:none\" points=\"\n",
       "  689.28,1423.18 689.28,47.2441 \n",
       "  \"/>\n",
       "<polyline clip-path=\"url(#clip982)\" style=\"stroke:#000000; stroke-width:2; stroke-opacity:0.1; fill:none\" points=\"\n",
       "  1090.08,1423.18 1090.08,47.2441 \n",
       "  \"/>\n",
       "<polyline clip-path=\"url(#clip982)\" style=\"stroke:#000000; stroke-width:2; stroke-opacity:0.1; fill:none\" points=\"\n",
       "  1490.88,1423.18 1490.88,47.2441 \n",
       "  \"/>\n",
       "<polyline clip-path=\"url(#clip982)\" style=\"stroke:#000000; stroke-width:2; stroke-opacity:0.1; fill:none\" points=\"\n",
       "  1891.68,1423.18 1891.68,47.2441 \n",
       "  \"/>\n",
       "<polyline clip-path=\"url(#clip982)\" style=\"stroke:#000000; stroke-width:2; stroke-opacity:0.1; fill:none\" points=\"\n",
       "  2292.48,1423.18 2292.48,47.2441 \n",
       "  \"/>\n",
       "<polyline clip-path=\"url(#clip982)\" style=\"stroke:#000000; stroke-width:2; stroke-opacity:0.1; fill:none\" points=\"\n",
       "  237.019,1226.1 2352.76,1226.1 \n",
       "  \"/>\n",
       "<polyline clip-path=\"url(#clip982)\" style=\"stroke:#000000; stroke-width:2; stroke-opacity:0.1; fill:none\" points=\"\n",
       "  237.019,960.548 2352.76,960.548 \n",
       "  \"/>\n",
       "<polyline clip-path=\"url(#clip982)\" style=\"stroke:#000000; stroke-width:2; stroke-opacity:0.1; fill:none\" points=\"\n",
       "  237.019,695 2352.76,695 \n",
       "  \"/>\n",
       "<polyline clip-path=\"url(#clip982)\" style=\"stroke:#000000; stroke-width:2; stroke-opacity:0.1; fill:none\" points=\"\n",
       "  237.019,429.452 2352.76,429.452 \n",
       "  \"/>\n",
       "<polyline clip-path=\"url(#clip982)\" style=\"stroke:#000000; stroke-width:2; stroke-opacity:0.1; fill:none\" points=\"\n",
       "  237.019,163.903 2352.76,163.903 \n",
       "  \"/>\n",
       "<polyline clip-path=\"url(#clip980)\" style=\"stroke:#000000; stroke-width:4; stroke-opacity:1; fill:none\" points=\"\n",
       "  237.019,1423.18 2352.76,1423.18 \n",
       "  \"/>\n",
       "<polyline clip-path=\"url(#clip980)\" style=\"stroke:#000000; stroke-width:4; stroke-opacity:1; fill:none\" points=\"\n",
       "  237.019,1423.18 237.019,47.2441 \n",
       "  \"/>\n",
       "<polyline clip-path=\"url(#clip980)\" style=\"stroke:#000000; stroke-width:4; stroke-opacity:1; fill:none\" points=\"\n",
       "  288.482,1423.18 288.482,1406.67 \n",
       "  \"/>\n",
       "<polyline clip-path=\"url(#clip980)\" style=\"stroke:#000000; stroke-width:4; stroke-opacity:1; fill:none\" points=\"\n",
       "  689.28,1423.18 689.28,1406.67 \n",
       "  \"/>\n",
       "<polyline clip-path=\"url(#clip980)\" style=\"stroke:#000000; stroke-width:4; stroke-opacity:1; fill:none\" points=\"\n",
       "  1090.08,1423.18 1090.08,1406.67 \n",
       "  \"/>\n",
       "<polyline clip-path=\"url(#clip980)\" style=\"stroke:#000000; stroke-width:4; stroke-opacity:1; fill:none\" points=\"\n",
       "  1490.88,1423.18 1490.88,1406.67 \n",
       "  \"/>\n",
       "<polyline clip-path=\"url(#clip980)\" style=\"stroke:#000000; stroke-width:4; stroke-opacity:1; fill:none\" points=\"\n",
       "  1891.68,1423.18 1891.68,1406.67 \n",
       "  \"/>\n",
       "<polyline clip-path=\"url(#clip980)\" style=\"stroke:#000000; stroke-width:4; stroke-opacity:1; fill:none\" points=\"\n",
       "  2292.48,1423.18 2292.48,1406.67 \n",
       "  \"/>\n",
       "<polyline clip-path=\"url(#clip980)\" style=\"stroke:#000000; stroke-width:4; stroke-opacity:1; fill:none\" points=\"\n",
       "  237.019,1226.1 262.408,1226.1 \n",
       "  \"/>\n",
       "<polyline clip-path=\"url(#clip980)\" style=\"stroke:#000000; stroke-width:4; stroke-opacity:1; fill:none\" points=\"\n",
       "  237.019,960.548 262.408,960.548 \n",
       "  \"/>\n",
       "<polyline clip-path=\"url(#clip980)\" style=\"stroke:#000000; stroke-width:4; stroke-opacity:1; fill:none\" points=\"\n",
       "  237.019,695 262.408,695 \n",
       "  \"/>\n",
       "<polyline clip-path=\"url(#clip980)\" style=\"stroke:#000000; stroke-width:4; stroke-opacity:1; fill:none\" points=\"\n",
       "  237.019,429.452 262.408,429.452 \n",
       "  \"/>\n",
       "<polyline clip-path=\"url(#clip980)\" style=\"stroke:#000000; stroke-width:4; stroke-opacity:1; fill:none\" points=\"\n",
       "  237.019,163.903 262.408,163.903 \n",
       "  \"/>\n",
       "<path clip-path=\"url(#clip980)\" d=\"M 0 0 M288.482 1445.17 Q284.87 1445.17 283.042 1448.74 Q281.236 1452.28 281.236 1459.41 Q281.236 1466.51 283.042 1470.08 Q284.87 1473.62 288.482 1473.62 Q292.116 1473.62 293.921 1470.08 Q295.75 1466.51 295.75 1459.41 Q295.75 1452.28 293.921 1448.74 Q292.116 1445.17 288.482 1445.17 M288.482 1441.47 Q294.292 1441.47 297.347 1446.07 Q300.426 1450.66 300.426 1459.41 Q300.426 1468.13 297.347 1472.74 Q294.292 1477.32 288.482 1477.32 Q282.671 1477.32 279.593 1472.74 Q276.537 1468.13 276.537 1459.41 Q276.537 1450.66 279.593 1446.07 Q282.671 1441.47 288.482 1441.47 Z\" fill=\"#000000\" fill-rule=\"evenodd\" fill-opacity=\"1\" /><path clip-path=\"url(#clip980)\" d=\"M 0 0 M639.142 1472.72 L646.781 1472.72 L646.781 1446.35 L638.47 1448.02 L638.47 1443.76 L646.734 1442.09 L651.41 1442.09 L651.41 1472.72 L659.049 1472.72 L659.049 1476.65 L639.142 1476.65 L639.142 1472.72 Z\" fill=\"#000000\" fill-rule=\"evenodd\" fill-opacity=\"1\" /><path clip-path=\"url(#clip980)\" d=\"M 0 0 M674.118 1445.17 Q670.507 1445.17 668.679 1448.74 Q666.873 1452.28 666.873 1459.41 Q666.873 1466.51 668.679 1470.08 Q670.507 1473.62 674.118 1473.62 Q677.753 1473.62 679.558 1470.08 Q681.387 1466.51 681.387 1459.41 Q681.387 1452.28 679.558 1448.74 Q677.753 1445.17 674.118 1445.17 M674.118 1441.47 Q679.929 1441.47 682.984 1446.07 Q686.063 1450.66 686.063 1459.41 Q686.063 1468.13 682.984 1472.74 Q679.929 1477.32 674.118 1477.32 Q668.308 1477.32 665.23 1472.74 Q662.174 1468.13 662.174 1459.41 Q662.174 1450.66 665.23 1446.07 Q668.308 1441.47 674.118 1441.47 Z\" fill=\"#000000\" fill-rule=\"evenodd\" fill-opacity=\"1\" /><path clip-path=\"url(#clip980)\" d=\"M 0 0 M701.132 1445.17 Q697.521 1445.17 695.692 1448.74 Q693.887 1452.28 693.887 1459.41 Q693.887 1466.51 695.692 1470.08 Q697.521 1473.62 701.132 1473.62 Q704.766 1473.62 706.572 1470.08 Q708.401 1466.51 708.401 1459.41 Q708.401 1452.28 706.572 1448.74 Q704.766 1445.17 701.132 1445.17 M701.132 1441.47 Q706.942 1441.47 709.998 1446.07 Q713.077 1450.66 713.077 1459.41 Q713.077 1468.13 709.998 1472.74 Q706.942 1477.32 701.132 1477.32 Q695.322 1477.32 692.243 1472.74 Q689.188 1468.13 689.188 1459.41 Q689.188 1450.66 692.243 1446.07 Q695.322 1441.47 701.132 1441.47 Z\" fill=\"#000000\" fill-rule=\"evenodd\" fill-opacity=\"1\" /><path clip-path=\"url(#clip980)\" d=\"M 0 0 M728.146 1445.17 Q724.535 1445.17 722.706 1448.74 Q720.901 1452.28 720.901 1459.41 Q720.901 1466.51 722.706 1470.08 Q724.535 1473.62 728.146 1473.62 Q731.78 1473.62 733.586 1470.08 Q735.414 1466.51 735.414 1459.41 Q735.414 1452.28 733.586 1448.74 Q731.78 1445.17 728.146 1445.17 M728.146 1441.47 Q733.956 1441.47 737.012 1446.07 Q740.09 1450.66 740.09 1459.41 Q740.09 1468.13 737.012 1472.74 Q733.956 1477.32 728.146 1477.32 Q722.336 1477.32 719.257 1472.74 Q716.202 1468.13 716.202 1459.41 Q716.202 1450.66 719.257 1446.07 Q722.336 1441.47 728.146 1441.47 Z\" fill=\"#000000\" fill-rule=\"evenodd\" fill-opacity=\"1\" /><path clip-path=\"url(#clip980)\" d=\"M 0 0 M1044.21 1472.72 L1060.53 1472.72 L1060.53 1476.65 L1038.59 1476.65 L1038.59 1472.72 Q1041.25 1469.96 1045.83 1465.33 Q1050.44 1460.68 1051.62 1459.34 Q1053.86 1456.81 1054.74 1455.08 Q1055.65 1453.32 1055.65 1451.63 Q1055.65 1448.87 1053.7 1447.14 Q1051.78 1445.4 1048.68 1445.4 Q1046.48 1445.4 1044.03 1446.17 Q1041.6 1446.93 1038.82 1448.48 L1038.82 1443.76 Q1041.64 1442.62 1044.1 1442.05 Q1046.55 1441.47 1048.59 1441.47 Q1053.96 1441.47 1057.15 1444.15 Q1060.35 1446.84 1060.35 1451.33 Q1060.35 1453.46 1059.54 1455.38 Q1058.75 1457.28 1056.64 1459.87 Q1056.06 1460.54 1052.96 1463.76 Q1049.86 1466.95 1044.21 1472.72 Z\" fill=\"#000000\" fill-rule=\"evenodd\" fill-opacity=\"1\" /><path clip-path=\"url(#clip980)\" d=\"M 0 0 M1075.6 1445.17 Q1071.99 1445.17 1070.16 1448.74 Q1068.35 1452.28 1068.35 1459.41 Q1068.35 1466.51 1070.16 1470.08 Q1071.99 1473.62 1075.6 1473.62 Q1079.23 1473.62 1081.04 1470.08 Q1082.87 1466.51 1082.87 1459.41 Q1082.87 1452.28 1081.04 1448.74 Q1079.23 1445.17 1075.6 1445.17 M1075.6 1441.47 Q1081.41 1441.47 1084.47 1446.07 Q1087.54 1450.66 1087.54 1459.41 Q1087.54 1468.13 1084.47 1472.74 Q1081.41 1477.32 1075.6 1477.32 Q1069.79 1477.32 1066.71 1472.74 Q1063.66 1468.13 1063.66 1459.41 Q1063.66 1450.66 1066.71 1446.07 Q1069.79 1441.47 1075.6 1441.47 Z\" fill=\"#000000\" fill-rule=\"evenodd\" fill-opacity=\"1\" /><path clip-path=\"url(#clip980)\" d=\"M 0 0 M1102.61 1445.17 Q1099 1445.17 1097.17 1448.74 Q1095.37 1452.28 1095.37 1459.41 Q1095.37 1466.51 1097.17 1470.08 Q1099 1473.62 1102.61 1473.62 Q1106.25 1473.62 1108.05 1470.08 Q1109.88 1466.51 1109.88 1459.41 Q1109.88 1452.28 1108.05 1448.74 Q1106.25 1445.17 1102.61 1445.17 M1102.61 1441.47 Q1108.42 1441.47 1111.48 1446.07 Q1114.56 1450.66 1114.56 1459.41 Q1114.56 1468.13 1111.48 1472.74 Q1108.42 1477.32 1102.61 1477.32 Q1096.8 1477.32 1093.73 1472.74 Q1090.67 1468.13 1090.67 1459.41 Q1090.67 1450.66 1093.73 1446.07 Q1096.8 1441.47 1102.61 1441.47 Z\" fill=\"#000000\" fill-rule=\"evenodd\" fill-opacity=\"1\" /><path clip-path=\"url(#clip980)\" d=\"M 0 0 M1129.63 1445.17 Q1126.02 1445.17 1124.19 1448.74 Q1122.38 1452.28 1122.38 1459.41 Q1122.38 1466.51 1124.19 1470.08 Q1126.02 1473.62 1129.63 1473.62 Q1133.26 1473.62 1135.07 1470.08 Q1136.9 1466.51 1136.9 1459.41 Q1136.9 1452.28 1135.07 1448.74 Q1133.26 1445.17 1129.63 1445.17 M1129.63 1441.47 Q1135.44 1441.47 1138.49 1446.07 Q1141.57 1450.66 1141.57 1459.41 Q1141.57 1468.13 1138.49 1472.74 Q1135.44 1477.32 1129.63 1477.32 Q1123.82 1477.32 1120.74 1472.74 Q1117.68 1468.13 1117.68 1459.41 Q1117.68 1450.66 1120.74 1446.07 Q1123.82 1441.47 1129.63 1441.47 Z\" fill=\"#000000\" fill-rule=\"evenodd\" fill-opacity=\"1\" /><path clip-path=\"url(#clip980)\" d=\"M 0 0 M1454.61 1458.02 Q1457.96 1458.74 1459.84 1461 Q1461.73 1463.27 1461.73 1466.61 Q1461.73 1471.72 1458.22 1474.52 Q1454.7 1477.32 1448.22 1477.32 Q1446.04 1477.32 1443.73 1476.88 Q1441.43 1476.47 1438.98 1475.61 L1438.98 1471.1 Q1440.92 1472.23 1443.24 1472.81 Q1445.55 1473.39 1448.08 1473.39 Q1452.48 1473.39 1454.77 1471.65 Q1457.08 1469.92 1457.08 1466.61 Q1457.08 1463.55 1454.93 1461.84 Q1452.8 1460.1 1448.98 1460.1 L1444.95 1460.1 L1444.95 1456.26 L1449.17 1456.26 Q1452.61 1456.26 1454.44 1454.89 Q1456.27 1453.5 1456.27 1450.91 Q1456.27 1448.25 1454.37 1446.84 Q1452.5 1445.4 1448.98 1445.4 Q1447.06 1445.4 1444.86 1445.82 Q1442.66 1446.24 1440.02 1447.11 L1440.02 1442.95 Q1442.68 1442.21 1445 1441.84 Q1447.34 1441.47 1449.4 1441.47 Q1454.72 1441.47 1457.82 1443.9 Q1460.92 1446.3 1460.92 1450.43 Q1460.92 1453.3 1459.28 1455.29 Q1457.64 1457.25 1454.61 1458.02 Z\" fill=\"#000000\" fill-rule=\"evenodd\" fill-opacity=\"1\" /><path clip-path=\"url(#clip980)\" d=\"M 0 0 M1476.8 1445.17 Q1473.19 1445.17 1471.36 1448.74 Q1469.56 1452.28 1469.56 1459.41 Q1469.56 1466.51 1471.36 1470.08 Q1473.19 1473.62 1476.8 1473.62 Q1480.44 1473.62 1482.24 1470.08 Q1484.07 1466.51 1484.07 1459.41 Q1484.07 1452.28 1482.24 1448.74 Q1480.44 1445.17 1476.8 1445.17 M1476.8 1441.47 Q1482.61 1441.47 1485.67 1446.07 Q1488.75 1450.66 1488.75 1459.41 Q1488.75 1468.13 1485.67 1472.74 Q1482.61 1477.32 1476.8 1477.32 Q1470.99 1477.32 1467.92 1472.74 Q1464.86 1468.13 1464.86 1459.41 Q1464.86 1450.66 1467.92 1446.07 Q1470.99 1441.47 1476.8 1441.47 Z\" fill=\"#000000\" fill-rule=\"evenodd\" fill-opacity=\"1\" /><path clip-path=\"url(#clip980)\" d=\"M 0 0 M1503.82 1445.17 Q1500.21 1445.17 1498.38 1448.74 Q1496.57 1452.28 1496.57 1459.41 Q1496.57 1466.51 1498.38 1470.08 Q1500.21 1473.62 1503.82 1473.62 Q1507.45 1473.62 1509.26 1470.08 Q1511.09 1466.51 1511.09 1459.41 Q1511.09 1452.28 1509.26 1448.74 Q1507.45 1445.17 1503.82 1445.17 M1503.82 1441.47 Q1509.63 1441.47 1512.68 1446.07 Q1515.76 1450.66 1515.76 1459.41 Q1515.76 1468.13 1512.68 1472.74 Q1509.63 1477.32 1503.82 1477.32 Q1498.01 1477.32 1494.93 1472.74 Q1491.87 1468.13 1491.87 1459.41 Q1491.87 1450.66 1494.93 1446.07 Q1498.01 1441.47 1503.82 1441.47 Z\" fill=\"#000000\" fill-rule=\"evenodd\" fill-opacity=\"1\" /><path clip-path=\"url(#clip980)\" d=\"M 0 0 M1530.83 1445.17 Q1527.22 1445.17 1525.39 1448.74 Q1523.59 1452.28 1523.59 1459.41 Q1523.59 1466.51 1525.39 1470.08 Q1527.22 1473.62 1530.83 1473.62 Q1534.47 1473.62 1536.27 1470.08 Q1538.1 1466.51 1538.1 1459.41 Q1538.1 1452.28 1536.27 1448.74 Q1534.47 1445.17 1530.83 1445.17 M1530.83 1441.47 Q1536.64 1441.47 1539.7 1446.07 Q1542.78 1450.66 1542.78 1459.41 Q1542.78 1468.13 1539.7 1472.74 Q1536.64 1477.32 1530.83 1477.32 Q1525.02 1477.32 1521.94 1472.74 Q1518.89 1468.13 1518.89 1459.41 Q1518.89 1450.66 1521.94 1446.07 Q1525.02 1441.47 1530.83 1441.47 Z\" fill=\"#000000\" fill-rule=\"evenodd\" fill-opacity=\"1\" /><path clip-path=\"url(#clip980)\" d=\"M 0 0 M1854.17 1446.17 L1842.36 1464.61 L1854.17 1464.61 L1854.17 1446.17 M1852.94 1442.09 L1858.82 1442.09 L1858.82 1464.61 L1863.75 1464.61 L1863.75 1468.5 L1858.82 1468.5 L1858.82 1476.65 L1854.17 1476.65 L1854.17 1468.5 L1838.56 1468.5 L1838.56 1463.99 L1852.94 1442.09 Z\" fill=\"#000000\" fill-rule=\"evenodd\" fill-opacity=\"1\" /><path clip-path=\"url(#clip980)\" d=\"M 0 0 M1878.82 1445.17 Q1875.21 1445.17 1873.38 1448.74 Q1871.57 1452.28 1871.57 1459.41 Q1871.57 1466.51 1873.38 1470.08 Q1875.21 1473.62 1878.82 1473.62 Q1882.45 1473.62 1884.26 1470.08 Q1886.09 1466.51 1886.09 1459.41 Q1886.09 1452.28 1884.26 1448.74 Q1882.45 1445.17 1878.82 1445.17 M1878.82 1441.47 Q1884.63 1441.47 1887.68 1446.07 Q1890.76 1450.66 1890.76 1459.41 Q1890.76 1468.13 1887.68 1472.74 Q1884.63 1477.32 1878.82 1477.32 Q1873.01 1477.32 1869.93 1472.74 Q1866.87 1468.13 1866.87 1459.41 Q1866.87 1450.66 1869.93 1446.07 Q1873.01 1441.47 1878.82 1441.47 Z\" fill=\"#000000\" fill-rule=\"evenodd\" fill-opacity=\"1\" /><path clip-path=\"url(#clip980)\" d=\"M 0 0 M1905.83 1445.17 Q1902.22 1445.17 1900.39 1448.74 Q1898.59 1452.28 1898.59 1459.41 Q1898.59 1466.51 1900.39 1470.08 Q1902.22 1473.62 1905.83 1473.62 Q1909.47 1473.62 1911.27 1470.08 Q1913.1 1466.51 1913.1 1459.41 Q1913.1 1452.28 1911.27 1448.74 Q1909.47 1445.17 1905.83 1445.17 M1905.83 1441.47 Q1911.64 1441.47 1914.7 1446.07 Q1917.78 1450.66 1917.78 1459.41 Q1917.78 1468.13 1914.7 1472.74 Q1911.64 1477.32 1905.83 1477.32 Q1900.02 1477.32 1896.94 1472.74 Q1893.89 1468.13 1893.89 1459.41 Q1893.89 1450.66 1896.94 1446.07 Q1900.02 1441.47 1905.83 1441.47 Z\" fill=\"#000000\" fill-rule=\"evenodd\" fill-opacity=\"1\" /><path clip-path=\"url(#clip980)\" d=\"M 0 0 M1932.85 1445.17 Q1929.23 1445.17 1927.41 1448.74 Q1925.6 1452.28 1925.6 1459.41 Q1925.6 1466.51 1927.41 1470.08 Q1929.23 1473.62 1932.85 1473.62 Q1936.48 1473.62 1938.29 1470.08 Q1940.11 1466.51 1940.11 1459.41 Q1940.11 1452.28 1938.29 1448.74 Q1936.48 1445.17 1932.85 1445.17 M1932.85 1441.47 Q1938.66 1441.47 1941.71 1446.07 Q1944.79 1450.66 1944.79 1459.41 Q1944.79 1468.13 1941.71 1472.74 Q1938.66 1477.32 1932.85 1477.32 Q1927.04 1477.32 1923.96 1472.74 Q1920.9 1468.13 1920.9 1459.41 Q1920.9 1450.66 1923.96 1446.07 Q1927.04 1441.47 1932.85 1441.47 Z\" fill=\"#000000\" fill-rule=\"evenodd\" fill-opacity=\"1\" /><path clip-path=\"url(#clip980)\" d=\"M 0 0 M2242.23 1442.09 L2260.59 1442.09 L2260.59 1446.03 L2246.52 1446.03 L2246.52 1454.5 Q2247.53 1454.15 2248.55 1453.99 Q2249.57 1453.8 2250.59 1453.8 Q2256.38 1453.8 2259.76 1456.98 Q2263.14 1460.15 2263.14 1465.56 Q2263.14 1471.14 2259.66 1474.24 Q2256.19 1477.32 2249.87 1477.32 Q2247.7 1477.32 2245.43 1476.95 Q2243.18 1476.58 2240.77 1475.84 L2240.77 1471.14 Q2242.86 1472.28 2245.08 1472.83 Q2247.3 1473.39 2249.78 1473.39 Q2253.78 1473.39 2256.12 1471.28 Q2258.46 1469.18 2258.46 1465.56 Q2258.46 1461.95 2256.12 1459.85 Q2253.78 1457.74 2249.78 1457.74 Q2247.9 1457.74 2246.03 1458.16 Q2244.18 1458.57 2242.23 1459.45 L2242.23 1442.09 Z\" fill=\"#000000\" fill-rule=\"evenodd\" fill-opacity=\"1\" /><path clip-path=\"url(#clip980)\" d=\"M 0 0 M2278.21 1445.17 Q2274.59 1445.17 2272.77 1448.74 Q2270.96 1452.28 2270.96 1459.41 Q2270.96 1466.51 2272.77 1470.08 Q2274.59 1473.62 2278.21 1473.62 Q2281.84 1473.62 2283.64 1470.08 Q2285.47 1466.51 2285.47 1459.41 Q2285.47 1452.28 2283.64 1448.74 Q2281.84 1445.17 2278.21 1445.17 M2278.21 1441.47 Q2284.02 1441.47 2287.07 1446.07 Q2290.15 1450.66 2290.15 1459.41 Q2290.15 1468.13 2287.07 1472.74 Q2284.02 1477.32 2278.21 1477.32 Q2272.39 1477.32 2269.32 1472.74 Q2266.26 1468.13 2266.26 1459.41 Q2266.26 1450.66 2269.32 1446.07 Q2272.39 1441.47 2278.21 1441.47 Z\" fill=\"#000000\" fill-rule=\"evenodd\" fill-opacity=\"1\" /><path clip-path=\"url(#clip980)\" d=\"M 0 0 M2305.22 1445.17 Q2301.61 1445.17 2299.78 1448.74 Q2297.97 1452.28 2297.97 1459.41 Q2297.97 1466.51 2299.78 1470.08 Q2301.61 1473.62 2305.22 1473.62 Q2308.85 1473.62 2310.66 1470.08 Q2312.49 1466.51 2312.49 1459.41 Q2312.49 1452.28 2310.66 1448.74 Q2308.85 1445.17 2305.22 1445.17 M2305.22 1441.47 Q2311.03 1441.47 2314.08 1446.07 Q2317.16 1450.66 2317.16 1459.41 Q2317.16 1468.13 2314.08 1472.74 Q2311.03 1477.32 2305.22 1477.32 Q2299.41 1477.32 2296.33 1472.74 Q2293.27 1468.13 2293.27 1459.41 Q2293.27 1450.66 2296.33 1446.07 Q2299.41 1441.47 2305.22 1441.47 Z\" fill=\"#000000\" fill-rule=\"evenodd\" fill-opacity=\"1\" /><path clip-path=\"url(#clip980)\" d=\"M 0 0 M2332.23 1445.17 Q2328.62 1445.17 2326.79 1448.74 Q2324.99 1452.28 2324.99 1459.41 Q2324.99 1466.51 2326.79 1470.08 Q2328.62 1473.62 2332.23 1473.62 Q2335.87 1473.62 2337.67 1470.08 Q2339.5 1466.51 2339.5 1459.41 Q2339.5 1452.28 2337.67 1448.74 Q2335.87 1445.17 2332.23 1445.17 M2332.23 1441.47 Q2338.04 1441.47 2341.1 1446.07 Q2344.18 1450.66 2344.18 1459.41 Q2344.18 1468.13 2341.1 1472.74 Q2338.04 1477.32 2332.23 1477.32 Q2326.42 1477.32 2323.34 1472.74 Q2320.29 1468.13 2320.29 1459.41 Q2320.29 1450.66 2323.34 1446.07 Q2326.42 1441.47 2332.23 1441.47 Z\" fill=\"#000000\" fill-rule=\"evenodd\" fill-opacity=\"1\" /><path clip-path=\"url(#clip980)\" d=\"M 0 0 M139.917 1211.89 Q136.306 1211.89 134.478 1215.46 Q132.672 1219 132.672 1226.13 Q132.672 1233.24 134.478 1236.8 Q136.306 1240.34 139.917 1240.34 Q143.552 1240.34 145.357 1236.8 Q147.186 1233.24 147.186 1226.13 Q147.186 1219 145.357 1215.46 Q143.552 1211.89 139.917 1211.89 M139.917 1208.19 Q145.728 1208.19 148.783 1212.8 Q151.862 1217.38 151.862 1226.13 Q151.862 1234.86 148.783 1239.46 Q145.728 1244.05 139.917 1244.05 Q134.107 1244.05 131.029 1239.46 Q127.973 1234.86 127.973 1226.13 Q127.973 1217.38 131.029 1212.8 Q134.107 1208.19 139.917 1208.19 Z\" fill=\"#000000\" fill-rule=\"evenodd\" fill-opacity=\"1\" /><path clip-path=\"url(#clip980)\" d=\"M 0 0 M156.931 1237.5 L161.816 1237.5 L161.816 1243.38 L156.931 1243.38 L156.931 1237.5 Z\" fill=\"#000000\" fill-rule=\"evenodd\" fill-opacity=\"1\" /><path clip-path=\"url(#clip980)\" d=\"M 0 0 M167.695 1239.44 L175.334 1239.44 L175.334 1213.08 L167.024 1214.74 L167.024 1210.48 L175.288 1208.82 L179.964 1208.82 L179.964 1239.44 L187.602 1239.44 L187.602 1243.38 L167.695 1243.38 L167.695 1239.44 Z\" fill=\"#000000\" fill-rule=\"evenodd\" fill-opacity=\"1\" /><path clip-path=\"url(#clip980)\" d=\"M 0 0 M196.7 1239.44 L213.019 1239.44 L213.019 1243.38 L191.075 1243.38 L191.075 1239.44 Q193.737 1236.69 198.32 1232.06 Q202.926 1227.4 204.107 1226.06 Q206.352 1223.54 207.232 1221.8 Q208.135 1220.04 208.135 1218.35 Q208.135 1215.6 206.19 1213.86 Q204.269 1212.13 201.167 1212.13 Q198.968 1212.13 196.514 1212.89 Q194.084 1213.65 191.306 1215.2 L191.306 1210.48 Q194.13 1209.35 196.584 1208.77 Q199.038 1208.19 201.075 1208.19 Q206.445 1208.19 209.639 1210.88 Q212.834 1213.56 212.834 1218.05 Q212.834 1220.18 212.024 1222.1 Q211.237 1224 209.13 1226.59 Q208.551 1227.27 205.45 1230.48 Q202.348 1233.68 196.7 1239.44 Z\" fill=\"#000000\" fill-rule=\"evenodd\" fill-opacity=\"1\" /><path clip-path=\"url(#clip980)\" d=\"M 0 0 M139.316 946.347 Q135.705 946.347 133.876 949.911 Q132.07 953.453 132.07 960.583 Q132.07 967.689 133.876 971.254 Q135.705 974.796 139.316 974.796 Q142.95 974.796 144.755 971.254 Q146.584 967.689 146.584 960.583 Q146.584 953.453 144.755 949.911 Q142.95 946.347 139.316 946.347 M139.316 942.643 Q145.126 942.643 148.181 947.249 Q151.26 951.833 151.26 960.583 Q151.26 969.309 148.181 973.916 Q145.126 978.499 139.316 978.499 Q133.505 978.499 130.427 973.916 Q127.371 969.309 127.371 960.583 Q127.371 951.833 130.427 947.249 Q133.505 942.643 139.316 942.643 Z\" fill=\"#000000\" fill-rule=\"evenodd\" fill-opacity=\"1\" /><path clip-path=\"url(#clip980)\" d=\"M 0 0 M156.329 971.948 L161.214 971.948 L161.214 977.828 L156.329 977.828 L156.329 971.948 Z\" fill=\"#000000\" fill-rule=\"evenodd\" fill-opacity=\"1\" /><path clip-path=\"url(#clip980)\" d=\"M 0 0 M167.093 973.893 L174.732 973.893 L174.732 947.527 L166.422 949.194 L166.422 944.935 L174.686 943.268 L179.362 943.268 L179.362 973.893 L187.001 973.893 L187.001 977.828 L167.093 977.828 L167.093 973.893 Z\" fill=\"#000000\" fill-rule=\"evenodd\" fill-opacity=\"1\" /><path clip-path=\"url(#clip980)\" d=\"M 0 0 M192.116 943.268 L210.473 943.268 L210.473 947.203 L196.399 947.203 L196.399 955.675 Q197.417 955.328 198.436 955.166 Q199.454 954.981 200.473 954.981 Q206.26 954.981 209.639 958.152 Q213.019 961.323 213.019 966.74 Q213.019 972.319 209.547 975.421 Q206.075 978.499 199.755 978.499 Q197.579 978.499 195.311 978.129 Q193.065 977.758 190.658 977.018 L190.658 972.319 Q192.741 973.453 194.963 974.008 Q197.186 974.564 199.663 974.564 Q203.667 974.564 206.005 972.458 Q208.343 970.351 208.343 966.74 Q208.343 963.129 206.005 961.022 Q203.667 958.916 199.663 958.916 Q197.788 958.916 195.913 959.333 Q194.061 959.749 192.116 960.629 L192.116 943.268 Z\" fill=\"#000000\" fill-rule=\"evenodd\" fill-opacity=\"1\" /><path clip-path=\"url(#clip980)\" d=\"M 0 0 M138.413 680.798 Q134.802 680.798 132.973 684.363 Q131.168 687.905 131.168 695.034 Q131.168 702.141 132.973 705.706 Q134.802 709.247 138.413 709.247 Q142.047 709.247 143.853 705.706 Q145.681 702.141 145.681 695.034 Q145.681 687.905 143.853 684.363 Q142.047 680.798 138.413 680.798 M138.413 677.095 Q144.223 677.095 147.279 681.701 Q150.357 686.285 150.357 695.034 Q150.357 703.761 147.279 708.368 Q144.223 712.951 138.413 712.951 Q132.603 712.951 129.524 708.368 Q126.468 703.761 126.468 695.034 Q126.468 686.285 129.524 681.701 Q132.603 677.095 138.413 677.095 Z\" fill=\"#000000\" fill-rule=\"evenodd\" fill-opacity=\"1\" /><path clip-path=\"url(#clip980)\" d=\"M 0 0 M155.427 706.4 L160.311 706.4 L160.311 712.28 L155.427 712.28 L155.427 706.4 Z\" fill=\"#000000\" fill-rule=\"evenodd\" fill-opacity=\"1\" /><path clip-path=\"url(#clip980)\" d=\"M 0 0 M166.19 708.345 L173.829 708.345 L173.829 681.979 L165.519 683.646 L165.519 679.386 L173.783 677.72 L178.459 677.72 L178.459 708.345 L186.098 708.345 L186.098 712.28 L166.19 712.28 L166.19 708.345 Z\" fill=\"#000000\" fill-rule=\"evenodd\" fill-opacity=\"1\" /><path clip-path=\"url(#clip980)\" d=\"M 0 0 M201.167 695.868 Q197.834 695.868 195.913 697.65 Q194.014 699.433 194.014 702.558 Q194.014 705.683 195.913 707.465 Q197.834 709.247 201.167 709.247 Q204.5 709.247 206.422 707.465 Q208.343 705.659 208.343 702.558 Q208.343 699.433 206.422 697.65 Q204.524 695.868 201.167 695.868 M196.491 693.877 Q193.482 693.136 191.792 691.076 Q190.126 689.016 190.126 686.053 Q190.126 681.91 193.065 679.502 Q196.028 677.095 201.167 677.095 Q206.329 677.095 209.269 679.502 Q212.209 681.91 212.209 686.053 Q212.209 689.016 210.519 691.076 Q208.852 693.136 205.866 693.877 Q209.246 694.664 211.121 696.956 Q213.019 699.247 213.019 702.558 Q213.019 707.581 209.94 710.266 Q206.885 712.951 201.167 712.951 Q195.45 712.951 192.371 710.266 Q189.315 707.581 189.315 702.558 Q189.315 699.247 191.214 696.956 Q193.112 694.664 196.491 693.877 M194.778 686.493 Q194.778 689.178 196.445 690.683 Q198.135 692.187 201.167 692.187 Q204.176 692.187 205.866 690.683 Q207.579 689.178 207.579 686.493 Q207.579 683.808 205.866 682.303 Q204.176 680.798 201.167 680.798 Q198.135 680.798 196.445 682.303 Q194.778 683.808 194.778 686.493 Z\" fill=\"#000000\" fill-rule=\"evenodd\" fill-opacity=\"1\" /><path clip-path=\"url(#clip980)\" d=\"M 0 0 M139.917 415.25 Q136.306 415.25 134.478 418.815 Q132.672 422.357 132.672 429.486 Q132.672 436.593 134.478 440.158 Q136.306 443.699 139.917 443.699 Q143.552 443.699 145.357 440.158 Q147.186 436.593 147.186 429.486 Q147.186 422.357 145.357 418.815 Q143.552 415.25 139.917 415.25 M139.917 411.547 Q145.728 411.547 148.783 416.153 Q151.862 420.736 151.862 429.486 Q151.862 438.213 148.783 442.82 Q145.728 447.403 139.917 447.403 Q134.107 447.403 131.029 442.82 Q127.973 438.213 127.973 429.486 Q127.973 420.736 131.029 416.153 Q134.107 411.547 139.917 411.547 Z\" fill=\"#000000\" fill-rule=\"evenodd\" fill-opacity=\"1\" /><path clip-path=\"url(#clip980)\" d=\"M 0 0 M156.931 440.852 L161.816 440.852 L161.816 446.732 L156.931 446.732 L156.931 440.852 Z\" fill=\"#000000\" fill-rule=\"evenodd\" fill-opacity=\"1\" /><path clip-path=\"url(#clip980)\" d=\"M 0 0 M170.913 442.796 L187.232 442.796 L187.232 446.732 L165.288 446.732 L165.288 442.796 Q167.95 440.042 172.533 435.412 Q177.14 430.759 178.32 429.417 Q180.565 426.894 181.445 425.158 Q182.348 423.398 182.348 421.709 Q182.348 418.954 180.403 417.218 Q178.482 415.482 175.38 415.482 Q173.181 415.482 170.728 416.246 Q168.297 417.009 165.519 418.56 L165.519 413.838 Q168.343 412.704 170.797 412.125 Q173.251 411.547 175.288 411.547 Q180.658 411.547 183.852 414.232 Q187.047 416.917 187.047 421.408 Q187.047 423.537 186.237 425.459 Q185.45 427.357 183.343 429.949 Q182.764 430.621 179.663 433.838 Q176.561 437.033 170.913 442.796 Z\" fill=\"#000000\" fill-rule=\"evenodd\" fill-opacity=\"1\" /><path clip-path=\"url(#clip980)\" d=\"M 0 0 M193.112 442.796 L200.75 442.796 L200.75 416.431 L192.44 418.097 L192.44 413.838 L200.704 412.172 L205.38 412.172 L205.38 442.796 L213.019 442.796 L213.019 446.732 L193.112 446.732 L193.112 442.796 Z\" fill=\"#000000\" fill-rule=\"evenodd\" fill-opacity=\"1\" /><path clip-path=\"url(#clip980)\" d=\"M 0 0 M138.205 149.702 Q134.593 149.702 132.765 153.267 Q130.959 156.808 130.959 163.938 Q130.959 171.045 132.765 174.609 Q134.593 178.151 138.205 178.151 Q141.839 178.151 143.644 174.609 Q145.473 171.045 145.473 163.938 Q145.473 156.808 143.644 153.267 Q141.839 149.702 138.205 149.702 M138.205 145.998 Q144.015 145.998 147.07 150.605 Q150.149 155.188 150.149 163.938 Q150.149 172.665 147.07 177.271 Q144.015 181.855 138.205 181.855 Q132.394 181.855 129.316 177.271 Q126.26 172.665 126.26 163.938 Q126.26 155.188 129.316 150.605 Q132.394 145.998 138.205 145.998 Z\" fill=\"#000000\" fill-rule=\"evenodd\" fill-opacity=\"1\" /><path clip-path=\"url(#clip980)\" d=\"M 0 0 M155.218 175.304 L160.103 175.304 L160.103 181.183 L155.218 181.183 L155.218 175.304 Z\" fill=\"#000000\" fill-rule=\"evenodd\" fill-opacity=\"1\" /><path clip-path=\"url(#clip980)\" d=\"M 0 0 M169.2 177.248 L185.519 177.248 L185.519 181.183 L163.575 181.183 L163.575 177.248 Q166.237 174.494 170.82 169.864 Q175.427 165.211 176.607 163.869 Q178.852 161.346 179.732 159.609 Q180.635 157.85 180.635 156.16 Q180.635 153.406 178.69 151.67 Q176.769 149.934 173.667 149.934 Q171.468 149.934 169.015 150.697 Q166.584 151.461 163.806 153.012 L163.806 148.29 Q166.63 147.156 169.084 146.577 Q171.538 145.998 173.575 145.998 Q178.945 145.998 182.139 148.684 Q185.334 151.369 185.334 155.859 Q185.334 157.989 184.524 159.91 Q183.737 161.808 181.63 164.401 Q181.052 165.072 177.95 168.29 Q174.848 171.484 169.2 177.248 Z\" fill=\"#000000\" fill-rule=\"evenodd\" fill-opacity=\"1\" /><path clip-path=\"url(#clip980)\" d=\"M 0 0 M203.436 150.697 L191.63 169.146 L203.436 169.146 L203.436 150.697 M202.209 146.623 L208.088 146.623 L208.088 169.146 L213.019 169.146 L213.019 173.035 L208.088 173.035 L208.088 181.183 L203.436 181.183 L203.436 173.035 L187.834 173.035 L187.834 168.521 L202.209 146.623 Z\" fill=\"#000000\" fill-rule=\"evenodd\" fill-opacity=\"1\" /><path clip-path=\"url(#clip980)\" d=\"M 0 0 M1025.2 1508.52 L1033.86 1508.52 L1054.93 1548.28 L1054.93 1508.52 L1061.17 1508.52 L1061.17 1556.04 L1052.51 1556.04 L1031.44 1516.29 L1031.44 1556.04 L1025.2 1556.04 L1025.2 1508.52 Z\" fill=\"#000000\" fill-rule=\"evenodd\" fill-opacity=\"1\" /><path clip-path=\"url(#clip980)\" d=\"M 0 0 M1066.71 1541.98 L1066.71 1520.4 L1072.57 1520.4 L1072.57 1541.75 Q1072.57 1546.81 1074.54 1549.36 Q1076.51 1551.87 1080.46 1551.87 Q1085.2 1551.87 1087.94 1548.85 Q1090.71 1545.83 1090.71 1540.61 L1090.71 1520.4 L1096.56 1520.4 L1096.56 1556.04 L1090.71 1556.04 L1090.71 1550.57 Q1088.57 1553.82 1085.74 1555.41 Q1082.94 1556.97 1079.22 1556.97 Q1073.07 1556.97 1069.89 1553.15 Q1066.71 1549.33 1066.71 1541.98 M1081.45 1519.54 L1081.45 1519.54 M1085.81 1503.91 L1092.14 1503.91 L1081.76 1515.88 L1076.89 1515.88 L1085.81 1503.91 Z\" fill=\"#000000\" fill-rule=\"evenodd\" fill-opacity=\"1\" /><path clip-path=\"url(#clip980)\" d=\"M 0 0 M1130.46 1527.24 Q1132.66 1523.29 1135.71 1521.41 Q1138.77 1519.54 1142.91 1519.54 Q1148.48 1519.54 1151.5 1523.45 Q1154.52 1527.33 1154.52 1534.53 L1154.52 1556.04 L1148.64 1556.04 L1148.64 1534.72 Q1148.64 1529.59 1146.82 1527.11 Q1145.01 1524.63 1141.28 1524.63 Q1136.73 1524.63 1134.09 1527.65 Q1131.45 1530.68 1131.45 1535.9 L1131.45 1556.04 L1125.56 1556.04 L1125.56 1534.72 Q1125.56 1529.56 1123.75 1527.11 Q1121.93 1524.63 1118.14 1524.63 Q1113.66 1524.63 1111.01 1527.68 Q1108.37 1530.71 1108.37 1535.9 L1108.37 1556.04 L1102.48 1556.04 L1102.48 1520.4 L1108.37 1520.4 L1108.37 1525.93 Q1110.38 1522.66 1113.18 1521.1 Q1115.98 1519.54 1119.83 1519.54 Q1123.71 1519.54 1126.42 1521.51 Q1129.16 1523.48 1130.46 1527.24 Z\" fill=\"#000000\" fill-rule=\"evenodd\" fill-opacity=\"1\" /><path clip-path=\"url(#clip980)\" d=\"M 0 0 M1191.16 1536.76 L1191.16 1539.62 L1164.23 1539.62 Q1164.61 1545.67 1167.86 1548.85 Q1171.14 1552 1176.96 1552 Q1180.34 1552 1183.49 1551.17 Q1186.67 1550.35 1189.79 1548.69 L1189.79 1554.23 Q1186.64 1555.57 1183.33 1556.27 Q1180.02 1556.97 1176.61 1556.97 Q1168.08 1556.97 1163.09 1552 Q1158.12 1547.04 1158.12 1538.57 Q1158.12 1529.82 1162.83 1524.69 Q1167.57 1519.54 1175.59 1519.54 Q1182.79 1519.54 1186.96 1524.18 Q1191.16 1528.8 1191.16 1536.76 M1185.3 1535.04 Q1185.24 1530.23 1182.6 1527.37 Q1179.99 1524.5 1175.66 1524.5 Q1170.76 1524.5 1167.8 1527.27 Q1164.87 1530.04 1164.42 1535.07 L1185.3 1535.04 Z\" fill=\"#000000\" fill-rule=\"evenodd\" fill-opacity=\"1\" /><path clip-path=\"url(#clip980)\" d=\"M 0 0 M1217.96 1525.87 Q1216.97 1525.3 1215.79 1525.04 Q1214.65 1524.76 1213.25 1524.76 Q1208.28 1524.76 1205.61 1528 Q1202.97 1531.22 1202.97 1537.27 L1202.97 1556.04 L1197.08 1556.04 L1197.08 1520.4 L1202.97 1520.4 L1202.97 1525.93 Q1204.81 1522.69 1207.77 1521.13 Q1210.73 1519.54 1214.97 1519.54 Q1215.57 1519.54 1216.3 1519.63 Q1217.03 1519.7 1217.93 1519.85 L1217.96 1525.87 Z\" fill=\"#000000\" fill-rule=\"evenodd\" fill-opacity=\"1\" /><path clip-path=\"url(#clip980)\" d=\"M 0 0 M1236.48 1524.5 Q1231.77 1524.5 1229.03 1528.19 Q1226.3 1531.85 1226.3 1538.25 Q1226.3 1544.65 1229 1548.34 Q1231.74 1552 1236.48 1552 Q1241.16 1552 1243.9 1548.31 Q1246.64 1544.62 1246.64 1538.25 Q1246.64 1531.92 1243.9 1528.23 Q1241.16 1524.5 1236.48 1524.5 M1236.48 1519.54 Q1244.12 1519.54 1248.48 1524.5 Q1252.84 1529.47 1252.84 1538.25 Q1252.84 1547 1248.48 1552 Q1244.12 1556.97 1236.48 1556.97 Q1228.81 1556.97 1224.45 1552 Q1220.12 1547 1220.12 1538.25 Q1220.12 1529.47 1224.45 1524.5 Q1228.81 1519.54 1236.48 1519.54 Z\" fill=\"#000000\" fill-rule=\"evenodd\" fill-opacity=\"1\" /><path clip-path=\"url(#clip980)\" d=\"M 0 0 M1303.16 1525.81 L1303.16 1506.52 L1309.02 1506.52 L1309.02 1556.04 L1303.16 1556.04 L1303.16 1550.7 Q1301.32 1553.88 1298.48 1555.44 Q1295.68 1556.97 1291.74 1556.97 Q1285.28 1556.97 1281.2 1551.81 Q1277.16 1546.65 1277.16 1538.25 Q1277.16 1529.85 1281.2 1524.69 Q1285.28 1519.54 1291.74 1519.54 Q1295.68 1519.54 1298.48 1521.1 Q1301.32 1522.62 1303.16 1525.81 M1283.21 1538.25 Q1283.21 1544.71 1285.85 1548.4 Q1288.52 1552.07 1293.17 1552.07 Q1297.82 1552.07 1300.49 1548.4 Q1303.16 1544.71 1303.16 1538.25 Q1303.16 1531.79 1300.49 1528.13 Q1297.82 1524.44 1293.17 1524.44 Q1288.52 1524.44 1285.85 1528.13 Q1283.21 1531.79 1283.21 1538.25 Z\" fill=\"#000000\" fill-rule=\"evenodd\" fill-opacity=\"1\" /><path clip-path=\"url(#clip980)\" d=\"M 0 0 M1345.65 1536.76 L1345.65 1539.62 L1318.73 1539.62 Q1319.11 1545.67 1322.36 1548.85 Q1325.63 1552 1331.46 1552 Q1334.83 1552 1337.98 1551.17 Q1341.17 1550.35 1344.29 1548.69 L1344.29 1554.23 Q1341.13 1555.57 1337.82 1556.27 Q1334.51 1556.97 1331.11 1556.97 Q1322.58 1556.97 1317.58 1552 Q1312.62 1547.04 1312.62 1538.57 Q1312.62 1529.82 1317.33 1524.69 Q1322.07 1519.54 1330.09 1519.54 Q1337.28 1519.54 1341.45 1524.18 Q1345.65 1528.8 1345.65 1536.76 M1339.8 1535.04 Q1339.73 1530.23 1337.09 1527.37 Q1334.48 1524.5 1330.15 1524.5 Q1325.25 1524.5 1322.29 1527.27 Q1319.36 1530.04 1318.92 1535.07 L1339.8 1535.04 Z\" fill=\"#000000\" fill-rule=\"evenodd\" fill-opacity=\"1\" /><path clip-path=\"url(#clip980)\" d=\"M 0 0 M1379.2 1513.81 L1379.2 1531.66 L1387.29 1531.66 Q1391.77 1531.66 1394.22 1529.34 Q1396.68 1527.02 1396.68 1522.72 Q1396.68 1518.45 1394.22 1516.13 Q1391.77 1513.81 1387.29 1513.81 L1379.2 1513.81 M1372.77 1508.52 L1387.29 1508.52 Q1395.27 1508.52 1399.35 1512.15 Q1403.45 1515.75 1403.45 1522.72 Q1403.45 1529.75 1399.35 1533.35 Q1395.27 1536.95 1387.29 1536.95 L1379.2 1536.95 L1379.2 1556.04 L1372.77 1556.04 L1372.77 1508.52 Z\" fill=\"#000000\" fill-rule=\"evenodd\" fill-opacity=\"1\" /><path clip-path=\"url(#clip980)\" d=\"M 0 0 M1407.85 1541.98 L1407.85 1520.4 L1413.7 1520.4 L1413.7 1541.75 Q1413.7 1546.81 1415.68 1549.36 Q1417.65 1551.87 1421.6 1551.87 Q1426.34 1551.87 1429.08 1548.85 Q1431.85 1545.83 1431.85 1540.61 L1431.85 1520.4 L1437.7 1520.4 L1437.7 1556.04 L1431.85 1556.04 L1431.85 1550.57 Q1429.71 1553.82 1426.88 1555.41 Q1424.08 1556.97 1420.36 1556.97 Q1414.21 1556.97 1411.03 1553.15 Q1407.85 1549.33 1407.85 1541.98 M1422.58 1519.54 L1422.58 1519.54 Z\" fill=\"#000000\" fill-rule=\"evenodd\" fill-opacity=\"1\" /><path clip-path=\"url(#clip980)\" d=\"M 0 0 M1473.48 1534.53 L1473.48 1556.04 L1467.62 1556.04 L1467.62 1534.72 Q1467.62 1529.66 1465.65 1527.14 Q1463.67 1524.63 1459.73 1524.63 Q1454.98 1524.63 1452.25 1527.65 Q1449.51 1530.68 1449.51 1535.9 L1449.51 1556.04 L1443.62 1556.04 L1443.62 1520.4 L1449.51 1520.4 L1449.51 1525.93 Q1451.61 1522.72 1454.44 1521.13 Q1457.31 1519.54 1461.03 1519.54 Q1467.18 1519.54 1470.33 1523.36 Q1473.48 1527.14 1473.48 1534.53 Z\" fill=\"#000000\" fill-rule=\"evenodd\" fill-opacity=\"1\" /><path clip-path=\"url(#clip980)\" d=\"M 0 0 M1485.41 1510.27 L1485.41 1520.4 L1497.48 1520.4 L1497.48 1524.95 L1485.41 1524.95 L1485.41 1544.3 Q1485.41 1548.66 1486.59 1549.9 Q1487.8 1551.14 1491.46 1551.14 L1497.48 1551.14 L1497.48 1556.04 L1491.46 1556.04 Q1484.68 1556.04 1482.1 1553.53 Q1479.52 1550.98 1479.52 1544.3 L1479.52 1524.95 L1475.23 1524.95 L1475.23 1520.4 L1479.52 1520.4 L1479.52 1510.27 L1485.41 1510.27 Z\" fill=\"#000000\" fill-rule=\"evenodd\" fill-opacity=\"1\" /><path clip-path=\"url(#clip980)\" d=\"M 0 0 M1517.43 1524.5 Q1512.72 1524.5 1509.98 1528.19 Q1507.25 1531.85 1507.25 1538.25 Q1507.25 1544.65 1509.95 1548.34 Q1512.69 1552 1517.43 1552 Q1522.11 1552 1524.85 1548.31 Q1527.59 1544.62 1527.59 1538.25 Q1527.59 1531.92 1524.85 1528.23 Q1522.11 1524.5 1517.43 1524.5 M1517.43 1519.54 Q1525.07 1519.54 1529.43 1524.5 Q1533.79 1529.47 1533.79 1538.25 Q1533.79 1547 1529.43 1552 Q1525.07 1556.97 1517.43 1556.97 Q1509.76 1556.97 1505.4 1552 Q1501.07 1547 1501.07 1538.25 Q1501.07 1529.47 1505.4 1524.5 Q1509.76 1519.54 1517.43 1519.54 Z\" fill=\"#000000\" fill-rule=\"evenodd\" fill-opacity=\"1\" /><path clip-path=\"url(#clip980)\" d=\"M 0 0 M1562.66 1521.45 L1562.66 1526.98 Q1560.18 1525.71 1557.5 1525.07 Q1554.83 1524.44 1551.97 1524.44 Q1547.61 1524.44 1545.41 1525.77 Q1543.25 1527.11 1543.25 1529.79 Q1543.25 1531.82 1544.81 1533 Q1546.36 1534.15 1551.08 1535.2 L1553.08 1535.64 Q1559.32 1536.98 1561.93 1539.43 Q1564.57 1541.85 1564.57 1546.21 Q1564.57 1551.17 1560.62 1554.07 Q1556.71 1556.97 1549.83 1556.97 Q1546.97 1556.97 1543.85 1556.39 Q1540.76 1555.85 1537.33 1554.74 L1537.33 1548.69 Q1540.57 1550.38 1543.72 1551.24 Q1546.87 1552.07 1549.96 1552.07 Q1554.1 1552.07 1556.33 1550.66 Q1558.55 1549.23 1558.55 1546.65 Q1558.55 1544.27 1556.93 1542.99 Q1555.34 1541.72 1549.9 1540.54 L1547.86 1540.07 Q1542.42 1538.92 1540 1536.56 Q1537.58 1534.18 1537.58 1530.04 Q1537.58 1525.01 1541.14 1522.27 Q1544.71 1519.54 1551.27 1519.54 Q1554.51 1519.54 1557.38 1520.01 Q1560.24 1520.49 1562.66 1521.45 Z\" fill=\"#000000\" fill-rule=\"evenodd\" fill-opacity=\"1\" /><path clip-path=\"url(#clip980)\" d=\"M 0 0 M88.0042 989.777 L40.4842 1007.92 L40.4842 1001.2 L80.4926 986.148 L40.4842 971.061 L40.4842 964.377 L88.0042 982.488 L88.0042 989.777 Z\" fill=\"#000000\" fill-rule=\"evenodd\" fill-opacity=\"1\" /><path clip-path=\"url(#clip980)\" d=\"M 0 0 M70.0847 947.095 Q70.0847 954.192 71.7079 956.93 Q73.3312 959.667 77.2461 959.667 Q80.3653 959.667 82.2114 957.63 Q84.0256 955.561 84.0256 952.028 Q84.0256 947.158 80.5881 944.23 Q77.1188 941.27 71.3897 941.27 L70.0847 941.27 L70.0847 947.095 M67.6657 935.413 L88.0042 935.413 L88.0042 941.27 L82.5933 941.27 Q85.8398 943.275 87.3994 946.267 Q88.9272 949.259 88.9272 953.588 Q88.9272 959.062 85.8716 962.309 Q82.7843 965.523 77.6281 965.523 Q71.6125 965.523 68.5569 961.513 Q65.5014 957.471 65.5014 949.482 L65.5014 941.27 L64.9285 941.27 Q60.8862 941.27 58.6901 943.943 Q56.4621 946.585 56.4621 951.391 Q56.4621 954.447 57.1941 957.343 Q57.9262 960.24 59.3903 962.913 L53.9795 962.913 Q52.7381 959.699 52.1334 956.675 Q51.4968 953.651 51.4968 950.787 Q51.4968 943.052 55.5072 939.233 Q59.5176 935.413 67.6657 935.413 Z\" fill=\"#000000\" fill-rule=\"evenodd\" fill-opacity=\"1\" /><path clip-path=\"url(#clip980)\" d=\"M 0 0 M38.479 929.271 L38.479 923.414 L88.0042 923.414 L88.0042 929.271 L38.479 929.271 Z\" fill=\"#000000\" fill-rule=\"evenodd\" fill-opacity=\"1\" /><path clip-path=\"url(#clip980)\" d=\"M 0 0 M56.4621 903.458 Q56.4621 908.168 60.1542 910.905 Q63.8145 913.643 70.212 913.643 Q76.6095 913.643 80.3017 910.937 Q83.9619 908.2 83.9619 903.458 Q83.9619 898.779 80.2698 896.042 Q76.5777 893.304 70.212 893.304 Q63.8781 893.304 60.186 896.042 Q56.4621 898.779 56.4621 903.458 M51.4968 903.458 Q51.4968 895.819 56.4621 891.458 Q61.4273 887.098 70.212 887.098 Q78.9649 887.098 83.9619 891.458 Q88.9272 895.819 88.9272 903.458 Q88.9272 911.128 83.9619 915.489 Q78.9649 919.817 70.212 919.817 Q61.4273 919.817 56.4621 915.489 Q51.4968 911.128 51.4968 903.458 Z\" fill=\"#000000\" fill-rule=\"evenodd\" fill-opacity=\"1\" /><path clip-path=\"url(#clip980)\" d=\"M 0 0 M57.8307 860.298 Q57.2578 861.285 57.0032 862.462 Q56.7167 863.608 56.7167 865.009 Q56.7167 869.974 59.9632 872.648 Q63.1779 875.289 69.2253 875.289 L88.0042 875.289 L88.0042 881.178 L52.3562 881.178 L52.3562 875.289 L57.8944 875.289 Q54.6479 873.443 53.0883 870.483 Q51.4968 867.523 51.4968 863.29 Q51.4968 862.685 51.5923 861.953 Q51.656 861.221 51.8151 860.33 L57.8307 860.298 Z\" fill=\"#000000\" fill-rule=\"evenodd\" fill-opacity=\"1\" /><path clip-path=\"url(#clip980)\" d=\"M 0 0 M57.7671 809.977 L38.479 809.977 L38.479 804.121 L88.0042 804.121 L88.0042 809.977 L82.657 809.977 Q85.8398 811.823 87.3994 814.656 Q88.9272 817.457 88.9272 821.404 Q88.9272 827.865 83.771 831.939 Q78.6147 835.981 70.212 835.981 Q61.8093 835.981 56.6531 831.939 Q51.4968 827.865 51.4968 821.404 Q51.4968 817.457 53.0564 814.656 Q54.5842 811.823 57.7671 809.977 M70.212 829.934 Q76.6732 829.934 80.3653 827.292 Q84.0256 824.618 84.0256 819.971 Q84.0256 815.324 80.3653 812.651 Q76.6732 809.977 70.212 809.977 Q63.7508 809.977 60.0905 812.651 Q56.3984 815.324 56.3984 819.971 Q56.3984 824.618 60.0905 827.292 Q63.7508 829.934 70.212 829.934 Z\" fill=\"#000000\" fill-rule=\"evenodd\" fill-opacity=\"1\" /><path clip-path=\"url(#clip980)\" d=\"M 0 0 M68.7161 767.486 L71.5806 767.486 L71.5806 794.413 Q77.6281 794.031 80.8109 790.785 Q83.9619 787.506 83.9619 781.682 Q83.9619 778.308 83.1344 775.157 Q82.3069 771.974 80.6518 768.855 L86.1899 768.855 Q87.5267 772.006 88.227 775.316 Q88.9272 778.626 88.9272 782.032 Q88.9272 790.562 83.9619 795.559 Q78.9967 800.524 70.5303 800.524 Q61.7774 800.524 56.6531 795.813 Q51.4968 791.071 51.4968 783.05 Q51.4968 775.857 56.1438 771.687 Q60.7589 767.486 68.7161 767.486 M66.9973 773.343 Q62.1912 773.406 59.3266 776.048 Q56.4621 778.658 56.4621 782.987 Q56.4621 787.888 59.2312 790.848 Q62.0002 793.776 67.0292 794.222 L66.9973 773.343 Z\" fill=\"#000000\" fill-rule=\"evenodd\" fill-opacity=\"1\" /><path clip-path=\"url(#clip980)\" d=\"M 0 0 M38.479 740.623 L38.479 734.766 L88.0042 734.766 L88.0042 740.623 L38.479 740.623 Z\" fill=\"#000000\" fill-rule=\"evenodd\" fill-opacity=\"1\" /><path clip-path=\"url(#clip980)\" d=\"M 0 0 M70.0847 712.423 Q70.0847 719.521 71.7079 722.258 Q73.3312 724.995 77.2461 724.995 Q80.3653 724.995 82.2114 722.958 Q84.0256 720.889 84.0256 717.356 Q84.0256 712.486 80.5881 709.558 Q77.1188 706.598 71.3897 706.598 L70.0847 706.598 L70.0847 712.423 M67.6657 700.742 L88.0042 700.742 L88.0042 706.598 L82.5933 706.598 Q85.8398 708.603 87.3994 711.595 Q88.9272 714.587 88.9272 718.916 Q88.9272 724.39 85.8716 727.637 Q82.7843 730.851 77.6281 730.851 Q71.6125 730.851 68.5569 726.841 Q65.5014 722.799 65.5014 714.81 L65.5014 706.598 L64.9285 706.598 Q60.8862 706.598 58.6901 709.272 Q56.4621 711.913 56.4621 716.72 Q56.4621 719.775 57.1941 722.672 Q57.9262 725.568 59.3903 728.242 L53.9795 728.242 Q52.7381 725.027 52.1334 722.003 Q51.4968 718.979 51.4968 716.115 Q51.4968 708.381 55.5072 704.561 Q59.5176 700.742 67.6657 700.742 Z\" fill=\"#000000\" fill-rule=\"evenodd\" fill-opacity=\"1\" /><path clip-path=\"url(#clip980)\" d=\"M 0 0 M40.4842 673.624 L40.4842 667.194 L88.0042 667.194 L88.0042 673.624 L40.4842 673.624 Z\" fill=\"#000000\" fill-rule=\"evenodd\" fill-opacity=\"1\" /><path clip-path=\"url(#clip980)\" d=\"M 0 0 M66.4881 631.419 L88.0042 631.419 L88.0042 637.276 L66.679 637.276 Q61.6183 637.276 59.1038 639.249 Q56.5894 641.222 56.5894 645.169 Q56.5894 649.911 59.6131 652.649 Q62.6368 655.386 67.8567 655.386 L88.0042 655.386 L88.0042 661.274 L52.3562 661.274 L52.3562 655.386 L57.8944 655.386 Q54.6797 653.285 53.0883 650.453 Q51.4968 647.588 51.4968 643.864 Q51.4968 637.721 55.3163 634.57 Q59.1038 631.419 66.4881 631.419 Z\" fill=\"#000000\" fill-rule=\"evenodd\" fill-opacity=\"1\" /><path clip-path=\"url(#clip980)\" d=\"M 0 0 M42.2347 619.483 L52.3562 619.483 L52.3562 607.42 L56.9077 607.42 L56.9077 619.483 L76.2594 619.483 Q80.6199 619.483 81.8613 618.306 Q83.1026 617.096 83.1026 613.436 L83.1026 607.42 L88.0042 607.42 L88.0042 613.436 Q88.0042 620.215 85.4897 622.794 Q82.9434 625.372 76.2594 625.372 L56.9077 625.372 L56.9077 629.669 L52.3562 629.669 L52.3562 625.372 L42.2347 625.372 L42.2347 619.483 Z\" fill=\"#000000\" fill-rule=\"evenodd\" fill-opacity=\"1\" /><path clip-path=\"url(#clip980)\" d=\"M 0 0 M68.7161 570.786 L71.5806 570.786 L71.5806 597.713 Q77.6281 597.331 80.8109 594.084 Q83.9619 590.806 83.9619 584.981 Q83.9619 581.607 83.1344 578.456 Q82.3069 575.274 80.6518 572.154 L86.1899 572.154 Q87.5267 575.305 88.227 578.616 Q88.9272 581.926 88.9272 585.331 Q88.9272 593.861 83.9619 598.859 Q78.9967 603.824 70.5303 603.824 Q61.7774 603.824 56.6531 599.113 Q51.4968 594.371 51.4968 586.35 Q51.4968 579.157 56.1438 574.987 Q60.7589 570.786 68.7161 570.786 M66.9973 576.642 Q62.1912 576.706 59.3266 579.348 Q56.4621 581.958 56.4621 586.286 Q56.4621 591.188 59.2312 594.148 Q62.0002 597.076 67.0292 597.522 L66.9973 576.642 Z\" fill=\"#000000\" fill-rule=\"evenodd\" fill-opacity=\"1\" /><path clip-path=\"url(#clip980)\" d=\"M 0 0 M69.7664 541.185 Q63.4007 541.185 59.8996 543.827 Q56.3984 546.437 56.3984 551.179 Q56.3984 555.89 59.8996 558.532 Q63.4007 561.142 69.7664 561.142 Q76.1003 561.142 79.6014 558.532 Q83.1026 555.89 83.1026 551.179 Q83.1026 546.437 79.6014 543.827 Q76.1003 541.185 69.7664 541.185 M83.58 535.329 Q92.683 535.329 97.1071 539.371 Q101.563 543.413 101.563 551.752 Q101.563 554.84 101.086 557.577 Q100.64 560.314 99.6852 562.892 L93.9879 562.892 Q95.3884 560.314 96.0568 557.8 Q96.7252 555.285 96.7252 552.675 Q96.7252 546.914 93.7015 544.05 Q90.7096 541.185 84.6303 541.185 L81.7339 541.185 Q84.885 542.999 86.4446 545.832 Q88.0042 548.665 88.0042 552.612 Q88.0042 559.168 83.0071 563.179 Q78.01 567.189 69.7664 567.189 Q61.491 567.189 56.4939 563.179 Q51.4968 559.168 51.4968 552.612 Q51.4968 548.665 53.0564 545.832 Q54.616 542.999 57.7671 541.185 L52.3562 541.185 L52.3562 535.329 L83.58 535.329 Z\" fill=\"#000000\" fill-rule=\"evenodd\" fill-opacity=\"1\" /><path clip-path=\"url(#clip980)\" d=\"M 0 0 M57.8307 508.529 Q57.2578 509.516 57.0032 510.693 Q56.7167 511.839 56.7167 513.24 Q56.7167 518.205 59.9632 520.879 Q63.1779 523.52 69.2253 523.52 L88.0042 523.52 L88.0042 529.409 L52.3562 529.409 L52.3562 523.52 L57.8944 523.52 Q54.6479 521.674 53.0883 518.714 Q51.4968 515.754 51.4968 511.521 Q51.4968 510.916 51.5923 510.184 Q51.656 509.452 51.8151 508.561 L57.8307 508.529 Z\" fill=\"#000000\" fill-rule=\"evenodd\" fill-opacity=\"1\" /><path clip-path=\"url(#clip980)\" d=\"M 0 0 M70.0847 486.186 Q70.0847 493.283 71.7079 496.021 Q73.3312 498.758 77.2461 498.758 Q80.3653 498.758 82.2114 496.721 Q84.0256 494.652 84.0256 491.119 Q84.0256 486.249 80.5881 483.321 Q77.1188 480.361 71.3897 480.361 L70.0847 480.361 L70.0847 486.186 M67.6657 474.504 L88.0042 474.504 L88.0042 480.361 L82.5933 480.361 Q85.8398 482.366 87.3994 485.358 Q88.9272 488.35 88.9272 492.679 Q88.9272 498.153 85.8716 501.4 Q82.7843 504.614 77.6281 504.614 Q71.6125 504.614 68.5569 500.604 Q65.5014 496.562 65.5014 488.573 L65.5014 480.361 L64.9285 480.361 Q60.8862 480.361 58.6901 483.035 Q56.4621 485.676 56.4621 490.482 Q56.4621 493.538 57.1941 496.434 Q57.9262 499.331 59.3903 502.004 L53.9795 502.004 Q52.7381 498.79 52.1334 495.766 Q51.4968 492.742 51.4968 489.878 Q51.4968 482.143 55.5072 478.324 Q59.5176 474.504 67.6657 474.504 Z\" fill=\"#000000\" fill-rule=\"evenodd\" fill-opacity=\"1\" /><path clip-path=\"url(#clip980)\" d=\"M 0 0 M38.479 468.362 L38.479 462.505 L88.0042 462.505 L88.0042 468.362 L38.479 468.362 Z\" fill=\"#000000\" fill-rule=\"evenodd\" fill-opacity=\"1\" /><polyline clip-path=\"url(#clip982)\" style=\"stroke:#009af9; stroke-width:6; stroke-opacity:1; fill:none\" points=\"\n",
       "  296.898,507.915 363.431,1384.21 429.964,1384.24 496.496,1384.24 563.029,1384.24 629.561,1384.24 696.094,1384.24 762.627,1384.24 829.159,1384.24 895.692,1384.24 \n",
       "  962.224,1384.24 1028.76,1384.24 1095.29,1384.24 1161.82,1384.24 1228.35,1384.24 1294.89,1384.24 1361.42,1384.24 1427.95,1384.24 1494.49,1384.24 1561.02,1384.24 \n",
       "  1627.55,1384.24 1694.08,1384.24 1760.62,1384.24 1827.15,1384.24 1893.68,1384.24 1960.21,1384.24 2026.75,1384.24 2093.28,1384.24 2159.81,1384.24 2226.34,1384.24 \n",
       "  2292.88,1384.24 \n",
       "  \"/>\n",
       "<polyline clip-path=\"url(#clip982)\" style=\"stroke:#e26f46; stroke-width:6; stroke-opacity:1; fill:none\" points=\"\n",
       "  296.898,914.015 363.431,1384.18 429.964,1384.17 496.496,1384.24 563.029,1384.24 629.561,1384.24 696.094,1384.24 762.627,1384.24 829.159,1384.24 895.692,1384.24 \n",
       "  962.224,1384.24 1028.76,1384.24 1095.29,1384.24 1161.82,1384.24 1228.35,1384.24 1294.89,1384.24 1361.42,1384.24 1427.95,1384.24 1494.49,1384.24 1561.02,1384.24 \n",
       "  1627.55,1384.24 1694.08,1384.24 1760.62,1384.24 1827.15,1384.24 1893.68,1384.24 1960.21,1384.24 2026.75,1384.24 2093.28,1384.24 2159.81,1384.24 2226.34,1384.24 \n",
       "  2292.88,1384.24 \n",
       "  \"/>\n",
       "<polyline clip-path=\"url(#clip982)\" style=\"stroke:#3da44d; stroke-width:6; stroke-opacity:1; fill:none\" points=\"\n",
       "  296.898,86.1857 363.431,1384.23 429.964,1384.24 496.496,1384.24 563.029,1384.24 629.561,1384.24 696.094,1384.24 762.627,1384.24 829.159,1384.24 895.692,1384.24 \n",
       "  962.224,1384.24 1028.76,1384.24 1095.29,1384.24 1161.82,1384.24 1228.35,1384.24 1294.89,1384.24 1361.42,1384.24 1427.95,1384.24 1494.49,1384.24 1561.02,1384.24 \n",
       "  1627.55,1384.24 1694.08,1384.24 1760.62,1384.24 1827.15,1384.24 1893.68,1384.24 1960.21,1384.24 2026.75,1384.24 2093.28,1384.24 2159.81,1384.24 2226.34,1384.24 \n",
       "  2292.88,1384.24 \n",
       "  \"/>\n",
       "<path clip-path=\"url(#clip980)\" d=\"\n",
       "M1851.08 372.684 L2280.76 372.684 L2280.76 130.764 L1851.08 130.764  Z\n",
       "  \" fill=\"#ffffff\" fill-rule=\"evenodd\" fill-opacity=\"1\"/>\n",
       "<polyline clip-path=\"url(#clip980)\" style=\"stroke:#000000; stroke-width:4; stroke-opacity:1; fill:none\" points=\"\n",
       "  1851.08,372.684 2280.76,372.684 2280.76,130.764 1851.08,130.764 1851.08,372.684 \n",
       "  \"/>\n",
       "<polyline clip-path=\"url(#clip980)\" style=\"stroke:#009af9; stroke-width:4; stroke-opacity:1; fill:none\" points=\"\n",
       "  1875.08,191.244 2019.08,191.244 \n",
       "  \"/>\n",
       "<path clip-path=\"url(#clip980)\" d=\"M 0 0 M2043.08 173.964 L2047.76 173.964 L2047.76 208.524 L2043.08 208.524 L2043.08 173.964 Z\" fill=\"#000000\" fill-rule=\"evenodd\" fill-opacity=\"1\" /><path clip-path=\"url(#clip980)\" d=\"M 0 0 M2073.78 192.876 L2073.78 208.524 L2069.52 208.524 L2069.52 193.015 Q2069.52 189.334 2068.08 187.506 Q2066.65 185.677 2063.78 185.677 Q2060.33 185.677 2058.34 187.876 Q2056.34 190.075 2056.34 193.871 L2056.34 208.524 L2052.06 208.524 L2052.06 182.598 L2056.34 182.598 L2056.34 186.626 Q2057.87 184.288 2059.93 183.131 Q2062.02 181.973 2064.72 181.973 Q2069.19 181.973 2071.48 184.751 Q2073.78 187.506 2073.78 192.876 Z\" fill=\"#000000\" fill-rule=\"evenodd\" fill-opacity=\"1\" /><path clip-path=\"url(#clip980)\" d=\"M 0 0 M2082.46 175.237 L2082.46 182.598 L2091.23 182.598 L2091.23 185.908 L2082.46 185.908 L2082.46 199.982 Q2082.46 203.154 2083.31 204.057 Q2084.19 204.959 2086.85 204.959 L2091.23 204.959 L2091.23 208.524 L2086.85 208.524 Q2081.92 208.524 2080.05 206.695 Q2078.17 204.844 2078.17 199.982 L2078.17 185.908 L2075.05 185.908 L2075.05 182.598 L2078.17 182.598 L2078.17 175.237 L2082.46 175.237 Z\" fill=\"#000000\" fill-rule=\"evenodd\" fill-opacity=\"1\" /><path clip-path=\"url(#clip980)\" d=\"M 0 0 M2115.4 216.394 L2115.4 219.705 L2090.77 219.705 L2090.77 216.394 L2115.4 216.394 Z\" fill=\"#000000\" fill-rule=\"evenodd\" fill-opacity=\"1\" /><path clip-path=\"url(#clip980)\" d=\"M 0 0 M2120.05 173.964 L2126.34 173.964 L2141.67 202.876 L2141.67 173.964 L2146.21 173.964 L2146.21 208.524 L2139.91 208.524 L2124.59 179.612 L2124.59 208.524 L2120.05 208.524 L2120.05 173.964 Z\" fill=\"#000000\" fill-rule=\"evenodd\" fill-opacity=\"1\" /><path clip-path=\"url(#clip980)\" d=\"M 0 0 M2150.23 198.293 L2150.23 182.598 L2154.49 182.598 L2154.49 198.131 Q2154.49 201.811 2155.93 203.663 Q2157.36 205.492 2160.23 205.492 Q2163.68 205.492 2165.67 203.293 Q2167.69 201.094 2167.69 197.297 L2167.69 182.598 L2171.95 182.598 L2171.95 208.524 L2167.69 208.524 L2167.69 204.543 Q2166.14 206.904 2164.08 208.061 Q2162.04 209.195 2159.33 209.195 Q2154.86 209.195 2152.55 206.418 Q2150.23 203.64 2150.23 198.293 M2160.95 181.973 L2160.95 181.973 Z\" fill=\"#000000\" fill-rule=\"evenodd\" fill-opacity=\"1\" /><path clip-path=\"url(#clip980)\" d=\"M 0 0 M2196.6 187.575 Q2198.2 184.705 2200.42 183.339 Q2202.64 181.973 2205.65 181.973 Q2209.7 181.973 2211.9 184.821 Q2214.1 187.645 2214.1 192.876 L2214.1 208.524 L2209.82 208.524 L2209.82 193.015 Q2209.82 189.288 2208.5 187.483 Q2207.18 185.677 2204.47 185.677 Q2201.16 185.677 2199.24 187.876 Q2197.32 190.075 2197.32 193.871 L2197.32 208.524 L2193.03 208.524 L2193.03 193.015 Q2193.03 189.265 2191.71 187.483 Q2190.4 185.677 2187.64 185.677 Q2184.38 185.677 2182.46 187.899 Q2180.53 190.098 2180.53 193.871 L2180.53 208.524 L2176.25 208.524 L2176.25 182.598 L2180.53 182.598 L2180.53 186.626 Q2181.99 184.242 2184.03 183.108 Q2186.07 181.973 2188.87 181.973 Q2191.69 181.973 2193.66 183.408 Q2195.65 184.844 2196.6 187.575 Z\" fill=\"#000000\" fill-rule=\"evenodd\" fill-opacity=\"1\" /><polyline clip-path=\"url(#clip980)\" style=\"stroke:#e26f46; stroke-width:4; stroke-opacity:1; fill:none\" points=\"\n",
       "  1875.08,251.724 2019.08,251.724 \n",
       "  \"/>\n",
       "<path clip-path=\"url(#clip980)\" d=\"M 0 0 M2043.08 234.444 L2047.76 234.444 L2047.76 269.004 L2043.08 269.004 L2043.08 234.444 Z\" fill=\"#000000\" fill-rule=\"evenodd\" fill-opacity=\"1\" /><path clip-path=\"url(#clip980)\" d=\"M 0 0 M2073.78 253.356 L2073.78 269.004 L2069.52 269.004 L2069.52 253.495 Q2069.52 249.814 2068.08 247.986 Q2066.65 246.157 2063.78 246.157 Q2060.33 246.157 2058.34 248.356 Q2056.34 250.555 2056.34 254.351 L2056.34 269.004 L2052.06 269.004 L2052.06 243.078 L2056.34 243.078 L2056.34 247.106 Q2057.87 244.768 2059.93 243.611 Q2062.02 242.453 2064.72 242.453 Q2069.19 242.453 2071.48 245.231 Q2073.78 247.986 2073.78 253.356 Z\" fill=\"#000000\" fill-rule=\"evenodd\" fill-opacity=\"1\" /><path clip-path=\"url(#clip980)\" d=\"M 0 0 M2082.46 235.717 L2082.46 243.078 L2091.23 243.078 L2091.23 246.388 L2082.46 246.388 L2082.46 260.462 Q2082.46 263.634 2083.31 264.537 Q2084.19 265.439 2086.85 265.439 L2091.23 265.439 L2091.23 269.004 L2086.85 269.004 Q2081.92 269.004 2080.05 267.175 Q2078.17 265.324 2078.17 260.462 L2078.17 246.388 L2075.05 246.388 L2075.05 243.078 L2078.17 243.078 L2078.17 235.717 L2082.46 235.717 Z\" fill=\"#000000\" fill-rule=\"evenodd\" fill-opacity=\"1\" /><path clip-path=\"url(#clip980)\" d=\"M 0 0 M2115.4 276.874 L2115.4 280.185 L2090.77 280.185 L2090.77 276.874 L2115.4 276.874 Z\" fill=\"#000000\" fill-rule=\"evenodd\" fill-opacity=\"1\" /><path clip-path=\"url(#clip980)\" d=\"M 0 0 M2140.77 235.578 L2140.77 240.139 Q2138.1 238.865 2135.74 238.24 Q2133.38 237.615 2131.18 237.615 Q2127.36 237.615 2125.28 239.097 Q2123.22 240.578 2123.22 243.31 Q2123.22 245.601 2124.59 246.782 Q2125.97 247.939 2129.82 248.657 L2132.64 249.236 Q2137.87 250.231 2140.35 252.754 Q2142.85 255.254 2142.85 259.467 Q2142.85 264.49 2139.47 267.083 Q2136.11 269.675 2129.61 269.675 Q2127.15 269.675 2124.38 269.12 Q2121.62 268.564 2118.66 267.476 L2118.66 262.662 Q2121.51 264.259 2124.24 265.069 Q2126.97 265.879 2129.61 265.879 Q2133.61 265.879 2135.79 264.305 Q2137.96 262.731 2137.96 259.814 Q2137.96 257.268 2136.39 255.833 Q2134.84 254.398 2131.27 253.68 L2128.43 253.125 Q2123.2 252.083 2120.86 249.861 Q2118.52 247.638 2118.52 243.68 Q2118.52 239.097 2121.74 236.458 Q2124.98 233.819 2130.65 233.819 Q2133.08 233.819 2135.6 234.259 Q2138.13 234.699 2140.77 235.578 Z\" fill=\"#000000\" fill-rule=\"evenodd\" fill-opacity=\"1\" /><path clip-path=\"url(#clip980)\" d=\"M 0 0 M2147.32 243.078 L2151.58 243.078 L2151.58 269.004 L2147.32 269.004 L2147.32 243.078 M2147.32 232.986 L2151.58 232.986 L2151.58 238.379 L2147.32 238.379 L2147.32 232.986 Z\" fill=\"#000000\" fill-rule=\"evenodd\" fill-opacity=\"1\" /><path clip-path=\"url(#clip980)\" d=\"M 0 0 M2176.23 248.055 Q2177.83 245.185 2180.05 243.819 Q2182.27 242.453 2185.28 242.453 Q2189.33 242.453 2191.53 245.301 Q2193.73 248.125 2193.73 253.356 L2193.73 269.004 L2189.45 269.004 L2189.45 253.495 Q2189.45 249.768 2188.13 247.963 Q2186.81 246.157 2184.1 246.157 Q2180.79 246.157 2178.87 248.356 Q2176.95 250.555 2176.95 254.351 L2176.95 269.004 L2172.66 269.004 L2172.66 253.495 Q2172.66 249.745 2171.34 247.963 Q2170.02 246.157 2167.27 246.157 Q2164.01 246.157 2162.08 248.379 Q2160.16 250.578 2160.16 254.351 L2160.16 269.004 L2155.88 269.004 L2155.88 243.078 L2160.16 243.078 L2160.16 247.106 Q2161.62 244.722 2163.66 243.588 Q2165.7 242.453 2168.5 242.453 Q2171.32 242.453 2173.29 243.888 Q2175.28 245.324 2176.23 248.055 Z\" fill=\"#000000\" fill-rule=\"evenodd\" fill-opacity=\"1\" /><path clip-path=\"url(#clip980)\" d=\"M 0 0 M2202.32 265.115 L2202.32 278.865 L2198.03 278.865 L2198.03 243.078 L2202.32 243.078 L2202.32 247.013 Q2203.66 244.699 2205.7 243.588 Q2207.76 242.453 2210.6 242.453 Q2215.33 242.453 2218.27 246.203 Q2221.23 249.953 2221.23 256.064 Q2221.23 262.175 2218.27 265.925 Q2215.33 269.675 2210.6 269.675 Q2207.76 269.675 2205.7 268.564 Q2203.66 267.43 2202.32 265.115 M2216.81 256.064 Q2216.81 251.365 2214.86 248.703 Q2212.94 246.018 2209.56 246.018 Q2206.18 246.018 2204.24 248.703 Q2202.32 251.365 2202.32 256.064 Q2202.32 260.763 2204.24 263.449 Q2206.18 266.111 2209.56 266.111 Q2212.94 266.111 2214.86 263.449 Q2216.81 260.763 2216.81 256.064 Z\" fill=\"#000000\" fill-rule=\"evenodd\" fill-opacity=\"1\" /><polyline clip-path=\"url(#clip980)\" style=\"stroke:#3da44d; stroke-width:4; stroke-opacity:1; fill:none\" points=\"\n",
       "  1875.08,312.204 2019.08,312.204 \n",
       "  \"/>\n",
       "<path clip-path=\"url(#clip980)\" d=\"M 0 0 M2043.08 294.924 L2047.76 294.924 L2047.76 329.484 L2043.08 329.484 L2043.08 294.924 Z\" fill=\"#000000\" fill-rule=\"evenodd\" fill-opacity=\"1\" /><path clip-path=\"url(#clip980)\" d=\"M 0 0 M2073.78 313.836 L2073.78 329.484 L2069.52 329.484 L2069.52 313.975 Q2069.52 310.294 2068.08 308.466 Q2066.65 306.637 2063.78 306.637 Q2060.33 306.637 2058.34 308.836 Q2056.34 311.035 2056.34 314.831 L2056.34 329.484 L2052.06 329.484 L2052.06 303.558 L2056.34 303.558 L2056.34 307.586 Q2057.87 305.248 2059.93 304.091 Q2062.02 302.933 2064.72 302.933 Q2069.19 302.933 2071.48 305.711 Q2073.78 308.466 2073.78 313.836 Z\" fill=\"#000000\" fill-rule=\"evenodd\" fill-opacity=\"1\" /><path clip-path=\"url(#clip980)\" d=\"M 0 0 M2082.46 296.197 L2082.46 303.558 L2091.23 303.558 L2091.23 306.868 L2082.46 306.868 L2082.46 320.942 Q2082.46 324.114 2083.31 325.017 Q2084.19 325.919 2086.85 325.919 L2091.23 325.919 L2091.23 329.484 L2086.85 329.484 Q2081.92 329.484 2080.05 327.655 Q2078.17 325.804 2078.17 320.942 L2078.17 306.868 L2075.05 306.868 L2075.05 303.558 L2078.17 303.558 L2078.17 296.197 L2082.46 296.197 Z\" fill=\"#000000\" fill-rule=\"evenodd\" fill-opacity=\"1\" /><path clip-path=\"url(#clip980)\" d=\"M 0 0 M2115.4 337.354 L2115.4 340.665 L2090.77 340.665 L2090.77 337.354 L2115.4 337.354 Z\" fill=\"#000000\" fill-rule=\"evenodd\" fill-opacity=\"1\" /><path clip-path=\"url(#clip980)\" d=\"M 0 0 M2124.72 312.98 L2124.72 325.642 L2132.22 325.642 Q2136 325.642 2137.8 324.091 Q2139.63 322.517 2139.63 319.299 Q2139.63 316.058 2137.8 314.53 Q2136 312.98 2132.22 312.98 L2124.72 312.98 M2124.72 298.767 L2124.72 309.183 L2131.65 309.183 Q2135.07 309.183 2136.74 307.91 Q2138.43 306.614 2138.43 303.975 Q2138.43 301.359 2136.74 300.063 Q2135.07 298.767 2131.65 298.767 L2124.72 298.767 M2120.05 294.924 L2131.99 294.924 Q2137.34 294.924 2140.23 297.146 Q2143.13 299.369 2143.13 303.466 Q2143.13 306.637 2141.65 308.512 Q2140.16 310.387 2137.29 310.85 Q2140.74 311.591 2142.64 313.952 Q2144.56 316.29 2144.56 319.808 Q2144.56 324.438 2141.41 326.961 Q2138.27 329.484 2132.46 329.484 L2120.05 329.484 L2120.05 294.924 Z\" fill=\"#000000\" fill-rule=\"evenodd\" fill-opacity=\"1\" /><path clip-path=\"url(#clip980)\" d=\"M 0 0 M2159.08 306.544 Q2155.65 306.544 2153.66 309.23 Q2151.67 311.892 2151.67 316.544 Q2151.67 321.197 2153.64 323.882 Q2155.63 326.544 2159.08 326.544 Q2162.48 326.544 2164.47 323.859 Q2166.46 321.174 2166.46 316.544 Q2166.46 311.938 2164.47 309.253 Q2162.48 306.544 2159.08 306.544 M2159.08 302.933 Q2164.63 302.933 2167.8 306.544 Q2170.97 310.155 2170.97 316.544 Q2170.97 322.91 2167.8 326.544 Q2164.63 330.155 2159.08 330.155 Q2153.5 330.155 2150.33 326.544 Q2147.18 322.91 2147.18 316.544 Q2147.18 310.155 2150.33 306.544 Q2153.5 302.933 2159.08 302.933 Z\" fill=\"#000000\" fill-rule=\"evenodd\" fill-opacity=\"1\" /><path clip-path=\"url(#clip980)\" d=\"M 0 0 M2185.49 306.544 Q2182.06 306.544 2180.07 309.23 Q2178.08 311.892 2178.08 316.544 Q2178.08 321.197 2180.05 323.882 Q2182.04 326.544 2185.49 326.544 Q2188.89 326.544 2190.88 323.859 Q2192.87 321.174 2192.87 316.544 Q2192.87 311.938 2190.88 309.253 Q2188.89 306.544 2185.49 306.544 M2185.49 302.933 Q2191.04 302.933 2194.21 306.544 Q2197.39 310.155 2197.39 316.544 Q2197.39 322.91 2194.21 326.544 Q2191.04 330.155 2185.49 330.155 Q2179.91 330.155 2176.74 326.544 Q2173.59 322.91 2173.59 316.544 Q2173.59 310.155 2176.74 306.544 Q2179.91 302.933 2185.49 302.933 Z\" fill=\"#000000\" fill-rule=\"evenodd\" fill-opacity=\"1\" /><path clip-path=\"url(#clip980)\" d=\"M 0 0 M2201.85 293.466 L2206.11 293.466 L2206.11 329.484 L2201.85 329.484 L2201.85 293.466 Z\" fill=\"#000000\" fill-rule=\"evenodd\" fill-opacity=\"1\" /><path clip-path=\"url(#clip980)\" d=\"M 0 0 M2232.76 315.456 L2232.76 317.54 L2213.17 317.54 Q2213.45 321.938 2215.81 324.253 Q2218.2 326.544 2222.43 326.544 Q2224.89 326.544 2227.18 325.942 Q2229.49 325.341 2231.76 324.137 L2231.76 328.165 Q2229.47 329.137 2227.06 329.646 Q2224.65 330.155 2222.18 330.155 Q2215.97 330.155 2212.34 326.544 Q2208.73 322.933 2208.73 316.776 Q2208.73 310.41 2212.15 306.683 Q2215.6 302.933 2221.44 302.933 Q2226.67 302.933 2229.7 306.313 Q2232.76 309.669 2232.76 315.456 M2228.5 314.206 Q2228.45 310.711 2226.53 308.628 Q2224.63 306.544 2221.48 306.544 Q2217.92 306.544 2215.77 308.558 Q2213.64 310.572 2213.31 314.23 L2228.5 314.206 Z\" fill=\"#000000\" fill-rule=\"evenodd\" fill-opacity=\"1\" /></svg>\n"
      ]
     },
     "execution_count": 70,
     "metadata": {},
     "output_type": "execute_result"
    }
   ],
   "source": [
    "Integral_Num=int_1\n",
    "Integral_Simp=int_2\n",
    "Integral_Boole=int_3\n",
    "plot(num_puntos,Integral_Num,label=\"Int_Num\",lw=1.5,xlabel=\"Número de Puntos\",ylabel=\"Valor de la Integral\")\n",
    "plot!(num_puntos,Integral_Simp,label=\"Int_Simp\",lw=1.5)\n",
    "plot!(num_puntos,Integral_Boole,label=\"Int_Boole\",lw=1.5)"
   ]
  },
  {
   "cell_type": "markdown",
   "metadata": {},
   "source": [
    "Observamos que los 3 algoritmos convergen a 0.1021340744 que es el resultado de la integral que encontramos anteriormente, sin embargo, el algoritmo correspondiente a la regla de Simpson es el que más rápido lo hace, seguido del algoritmo numérico y al final el algoritmo utilizando la regla de Boole."
   ]
  }
 ],
 "metadata": {
  "kernelspec": {
   "display_name": "Julia 1.0.5",
   "language": "julia",
   "name": "julia-1.0"
  },
  "language_info": {
   "file_extension": ".jl",
   "mimetype": "application/julia",
   "name": "julia",
   "version": "1.0.5"
  }
 },
 "nbformat": 4,
 "nbformat_minor": 4
}
